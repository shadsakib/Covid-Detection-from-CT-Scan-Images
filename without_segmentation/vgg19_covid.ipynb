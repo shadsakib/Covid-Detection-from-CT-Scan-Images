{
  "nbformat": 4,
  "nbformat_minor": 0,
  "metadata": {
    "colab": {
      "name": "vgg19_covid.ipynb",
      "provenance": [],
      "collapsed_sections": [],
      "mount_file_id": "1eL8_yhIdv-psvDRd9w0Z_Rl4_SdaDi63",
      "authorship_tag": "ABX9TyMpOiNugY4T/v4IndaoJcl5",
      "include_colab_link": true
    },
    "kernelspec": {
      "name": "python3",
      "display_name": "Python 3"
    },
    "accelerator": "GPU"
  },
  "cells": [
    {
      "cell_type": "markdown",
      "metadata": {
        "id": "view-in-github",
        "colab_type": "text"
      },
      "source": [
        "<a href=\"https://colab.research.google.com/github/Sakib97/covid_classification/blob/master/vgg19_covid.ipynb\" target=\"_parent\"><img src=\"https://colab.research.google.com/assets/colab-badge.svg\" alt=\"Open In Colab\"/></a>"
      ]
    },
    {
      "cell_type": "code",
      "metadata": {
        "id": "YOe2SEITmraw",
        "colab_type": "code",
        "colab": {}
      },
      "source": [
        "# needed for plotting confusion matrix\n",
        "import itertools\n",
        "import numpy as np\n",
        "import matplotlib.pyplot as plt\n",
        "\n",
        "def plot_confusion_matrix(cm, classes, normalize=False, title='Confusion matrix', cmap=plt.cm.Blues):\n",
        "    if normalize:\n",
        "        cm = cm.astype('float') / cm.sum(axis=1)[:, np.newaxis]\n",
        "        print(\"Normalized confusion matrix\")\n",
        "    else:\n",
        "        print('Confusion matrix, without normalization')\n",
        "\n",
        "    print(cm)\n",
        "    plt.imshow(cm, interpolation='nearest', cmap=cmap)\n",
        "    plt.title(title)\n",
        "    plt.colorbar()\n",
        "    tick_marks = np.arange(len(classes))\n",
        "    plt.xticks(tick_marks, classes, rotation=45)\n",
        "    plt.yticks(tick_marks, classes)\n",
        "\n",
        "    fmt = '.2f' if normalize else 'd'\n",
        "    thresh = cm.max() / 2.\n",
        "    for i, j in itertools.product(range(cm.shape[0]), range(cm.shape[1])):\n",
        "        plt.text(j, i, format(cm[i, j], fmt), horizontalalignment=\"center\", color=\"white\" if cm[i, j] > thresh else \"black\")\n",
        "\n",
        "    plt.tight_layout()\n",
        "    plt.ylabel('True label')\n",
        "    plt.xlabel('Predicted label')"
      ],
      "execution_count": null,
      "outputs": []
    },
    {
      "cell_type": "code",
      "metadata": {
        "id": "4k9VaeMGnBwz",
        "colab_type": "code",
        "colab": {}
      },
      "source": [
        "from __future__ import print_function, division\n",
        "\n",
        "from sklearn.metrics import confusion_matrix as sk_confusion_matrix\n",
        "\n",
        "import torch\n",
        "import torch.nn as nn\n",
        "import torch.optim as optim\n",
        "from torch.optim import lr_scheduler\n",
        "import numpy as np\n",
        "import torchvision\n",
        "from torchvision import datasets, models, transforms\n",
        "import matplotlib.pyplot as plt\n",
        "import time\n",
        "import os\n",
        "import copy\n",
        "\n",
        "plt.ion()   # interactive mode"
      ],
      "execution_count": null,
      "outputs": []
    },
    {
      "cell_type": "code",
      "metadata": {
        "id": "Xd1mOow2nD7R",
        "colab_type": "code",
        "colab": {}
      },
      "source": [
        "!unzip -qq '/content/drive/My Drive/Covid_datasets/CT_Scan_Brazil-20200621T154301Z-001.zip'"
      ],
      "execution_count": null,
      "outputs": []
    },
    {
      "cell_type": "code",
      "metadata": {
        "id": "0qSx6vQUnGDp",
        "colab_type": "code",
        "colab": {}
      },
      "source": [
        "# Load Data\n",
        "# Data augmentation and normalization for training\n",
        "# Just normalization for validation\n",
        "data_transforms = {\n",
        "    'train': transforms.Compose([\n",
        "        transforms.RandomResizedCrop(224),\n",
        "        transforms.RandomHorizontalFlip(),\n",
        "        transforms.ToTensor(),\n",
        "        transforms.Normalize([0.485, 0.456, 0.406], [0.229, 0.224, 0.225])\n",
        "    ]),\n",
        "    'val': transforms.Compose([\n",
        "        transforms.Resize(256),\n",
        "        transforms.CenterCrop(224),\n",
        "        transforms.ToTensor(),\n",
        "        transforms.Normalize([0.485, 0.456, 0.406], [0.229, 0.224, 0.225])\n",
        "    ]),\n",
        "    'test': transforms.Compose([\n",
        "        transforms.Resize(256),\n",
        "        transforms.CenterCrop(224),\n",
        "        transforms.ToTensor(),\n",
        "        transforms.Normalize([0.485, 0.456, 0.406], [0.229, 0.224, 0.225])\n",
        "    ]),\n",
        "}\n",
        "\n",
        "data_dir = '/content/CT_Scan_Brazil'\n",
        "image_datasets = {x: datasets.ImageFolder(os.path.join(data_dir, x),\n",
        "                                          data_transforms[x])\n",
        "                  for x in ['train', 'val','test']}\n",
        "dataloaders = {x: torch.utils.data.DataLoader(image_datasets[x], batch_size=4,\n",
        "                                             shuffle=True, num_workers=4)\n",
        "              for x in ['train', 'val','test']}\n",
        "dataset_sizes = {x: len(image_datasets[x]) for x in ['train', 'val','test']}\n",
        "class_names = image_datasets['train'].classes\n",
        "\n",
        "device = torch.device(\"cuda:0\" if torch.cuda.is_available() else \"cpu\")\n"
      ],
      "execution_count": null,
      "outputs": []
    },
    {
      "cell_type": "code",
      "metadata": {
        "id": "oW-LOPnInHxh",
        "colab_type": "code",
        "colab": {
          "base_uri": "https://localhost:8080/",
          "height": 88
        },
        "outputId": "346d9f52-5171-4099-886c-9c9b6e3a9980"
      },
      "source": [
        "print(class_names)\n",
        "print(dataloaders)\n",
        "print(dataset_sizes)"
      ],
      "execution_count": null,
      "outputs": [
        {
          "output_type": "stream",
          "text": [
            "['Covid', 'Non_Covid']\n",
            "{'train': <torch.utils.data.dataloader.DataLoader object at 0x7fc990865fd0>, 'val': <torch.utils.data.dataloader.DataLoader object at 0x7fc9908659b0>, 'test': <torch.utils.data.dataloader.DataLoader object at 0x7fc990e91550>}\n",
            "{'train': 1736, 'val': 496, 'test': 249}\n"
          ],
          "name": "stdout"
        }
      ]
    },
    {
      "cell_type": "code",
      "metadata": {
        "id": "S3aKBArvnJZL",
        "colab_type": "code",
        "colab": {}
      },
      "source": [
        "# Training the model\n",
        "\n",
        "def train_model(model, criterion, optimizer, scheduler, num_epochs=25):\n",
        "    since = time.time()\n",
        "\n",
        "    best_model_wts = copy.deepcopy(model.state_dict())\n",
        "    # best_acc = 0.0\n",
        "\n",
        "    train_acc_values = [] # for plotting purpose\n",
        "    val_acc_values = [] # for plotting purpose\n",
        "\n",
        "    best_acc_test = 0.0\n",
        "\n",
        "    for epoch in range(num_epochs):\n",
        "        print('Epoch {}/{}'.format(epoch, num_epochs - 1))\n",
        "        print('-' * 10)\n",
        "\n",
        "        # Each epoch has a training and validation phase\n",
        "        # for phase in ['train', 'val','test']:\n",
        "        for phase in ['train', 'test']: # test is validation now as it contains 10% data\n",
        "            if phase == 'train':\n",
        "                model.train()  # Set model to training mode\n",
        "            else:\n",
        "                model.eval()   # Set model to evaluate mode\n",
        "\n",
        "            running_loss = 0.0\n",
        "            running_corrects = 0\n",
        "\n",
        "            # Iterate over data.\n",
        "            for inputs, labels in dataloaders[phase]:\n",
        "                inputs = inputs.to(device)\n",
        "                labels = labels.to(device)\n",
        "\n",
        "                # zero the parameter gradients\n",
        "                optimizer.zero_grad()\n",
        "\n",
        "                # forward\n",
        "                # track history if only in train\n",
        "                with torch.set_grad_enabled(phase == 'train'):\n",
        "                    outputs = model(inputs)\n",
        "                    _, preds = torch.max(outputs, 1)\n",
        "                    loss = criterion(outputs, labels)\n",
        "\n",
        "                    # backward + optimize only if in training phase\n",
        "                    if phase == 'train':\n",
        "                        loss.backward()\n",
        "                        optimizer.step()\n",
        "\n",
        "                # statistics\n",
        "                running_loss += loss.item() * inputs.size(0)\n",
        "                running_corrects += torch.sum(preds == labels.data)\n",
        "            if phase == 'train':\n",
        "                scheduler.step()\n",
        "\n",
        "            epoch_loss = running_loss / dataset_sizes[phase]\n",
        "            epoch_acc = running_corrects.double() / dataset_sizes[phase]\n",
        "            if phase == 'train':\n",
        "              train_acc_values.append(epoch_acc)\n",
        "            if phase == 'test':\n",
        "              val_acc_values.append(epoch_acc) # test is validation now as it contains 10% data\n",
        "\n",
        "            print('{} Loss: {:.4f} Acc: {:.4f}'.format(\n",
        "                phase, epoch_loss, epoch_acc))\n",
        "\n",
        "            # deep copy the model\n",
        "            # if phase == 'val' and epoch_acc > best_acc:\n",
        "            #     best_acc = epoch_acc\n",
        "            #     best_model_wts = copy.deepcopy(model.state_dict())\n",
        "            \n",
        "            if phase == 'test' and epoch_acc > best_acc_test:\n",
        "                best_acc_test = epoch_acc\n",
        "                best_model_wts = copy.deepcopy(model.state_dict())\n",
        "\n",
        "        print()\n",
        "\n",
        "    time_elapsed = time.time() - since\n",
        "    print('Training complete in {:.0f}m {:.0f}s'.format(\n",
        "        time_elapsed // 60, time_elapsed % 60))\n",
        "    # print('Best val Acc: {:4f}'.format(best_acc))\n",
        "\n",
        "    print('Best val Acc: {:4f}'.format(best_acc_test))  # test is validation now as it contains 10% data\n",
        "\n",
        "    # load best model weights\n",
        "    model.load_state_dict(best_model_wts)\n",
        "    return model , train_acc_values , val_acc_values"
      ],
      "execution_count": null,
      "outputs": []
    },
    {
      "cell_type": "code",
      "metadata": {
        "id": "EZMX7nG2nLnR",
        "colab_type": "code",
        "colab": {}
      },
      "source": [
        "# Finetuning the convnet\n",
        "\n",
        "model_ft = models.vgg19(pretrained=True)\n",
        "# num_ftrs = model_ft.fc.in_features\n",
        "# # Here the size of each output sample is set to 2.\n",
        "# # Alternatively, it can be generalized to nn.Linear(num_ftrs, len(class_names)).\n",
        "# model_ft.fc = nn.Linear(num_ftrs, 2)\n",
        "\n",
        "num_ftrs = model_ft.classifier[6].in_features\n",
        "features = list(model_ft.classifier.children())[:-1] # Remove last layer\n",
        "features.extend([nn.Linear(num_ftrs, len(class_names))]) # Add our layer with 4 outputs\n",
        "model_ft.classifier = nn.Sequential(*features) # Replace the model classifier\n",
        "# print(vgg16)\n",
        "\n",
        "model_ft = model_ft.to(device)\n",
        "\n",
        "criterion = nn.CrossEntropyLoss()\n",
        "\n",
        "# Observe that all parameters are being optimized\n",
        "optimizer_ft = optim.SGD(model_ft.parameters(), lr=0.001, momentum=0.9)\n",
        "\n",
        "# Decay LR by a factor of 0.1 every 7 epochs\n",
        "exp_lr_scheduler = lr_scheduler.StepLR(optimizer_ft, step_size=7, gamma=0.1)"
      ],
      "execution_count": null,
      "outputs": []
    },
    {
      "cell_type": "code",
      "metadata": {
        "id": "GEbJLhOWHuhm",
        "colab_type": "code",
        "colab": {}
      },
      "source": [
        "print(model_ft)"
      ],
      "execution_count": null,
      "outputs": []
    },
    {
      "cell_type": "code",
      "metadata": {
        "id": "wji2Gep6nQYC",
        "colab_type": "code",
        "colab": {
          "base_uri": "https://localhost:8080/",
          "height": 1000
        },
        "outputId": "89f0e333-0ee4-4276-edf3-17516b19bbe7"
      },
      "source": [
        "model_ft , train_acc_values , val_acc_values = train_model(model_ft, criterion, optimizer_ft, exp_lr_scheduler,\n",
        "                       num_epochs=25)"
      ],
      "execution_count": null,
      "outputs": [
        {
          "output_type": "stream",
          "text": [
            "Epoch 0/24\n",
            "----------\n",
            "train Loss: 0.6242 Acc: 0.6596\n",
            "test Loss: 0.7113 Acc: 0.4940\n",
            "\n",
            "Epoch 1/24\n",
            "----------\n",
            "train Loss: 0.5581 Acc: 0.7200\n",
            "test Loss: 0.8474 Acc: 0.4940\n",
            "\n",
            "Epoch 2/24\n",
            "----------\n",
            "train Loss: 0.3985 Acc: 0.8381\n",
            "test Loss: 0.8478 Acc: 0.5100\n",
            "\n",
            "Epoch 3/24\n",
            "----------\n",
            "train Loss: 0.3910 Acc: 0.8347\n",
            "test Loss: 0.9974 Acc: 0.5060\n",
            "\n",
            "Epoch 4/24\n",
            "----------\n",
            "train Loss: 0.3497 Acc: 0.8704\n",
            "test Loss: 0.4149 Acc: 0.8072\n",
            "\n",
            "Epoch 5/24\n",
            "----------\n",
            "train Loss: 0.3646 Acc: 0.8548\n",
            "test Loss: 0.9282 Acc: 0.5382\n",
            "\n",
            "Epoch 6/24\n",
            "----------\n",
            "train Loss: 0.2984 Acc: 0.8825\n",
            "test Loss: 0.8070 Acc: 0.5743\n",
            "\n",
            "Epoch 7/24\n",
            "----------\n",
            "train Loss: 0.2410 Acc: 0.9044\n",
            "test Loss: 0.7918 Acc: 0.6305\n",
            "\n",
            "Epoch 8/24\n",
            "----------\n",
            "train Loss: 0.2168 Acc: 0.9142\n",
            "test Loss: 0.9353 Acc: 0.5663\n",
            "\n",
            "Epoch 9/24\n",
            "----------\n",
            "train Loss: 0.2174 Acc: 0.9147\n",
            "test Loss: 0.9009 Acc: 0.5823\n",
            "\n",
            "Epoch 10/24\n",
            "----------\n",
            "train Loss: 0.2063 Acc: 0.9188\n",
            "test Loss: 1.0713 Acc: 0.5301\n",
            "\n",
            "Epoch 11/24\n",
            "----------\n",
            "train Loss: 0.2120 Acc: 0.9113\n",
            "test Loss: 0.8261 Acc: 0.6185\n",
            "\n",
            "Epoch 12/24\n",
            "----------\n",
            "train Loss: 0.1973 Acc: 0.9251\n",
            "test Loss: 0.9169 Acc: 0.6064\n",
            "\n",
            "Epoch 13/24\n",
            "----------\n",
            "train Loss: 0.1847 Acc: 0.9303\n",
            "test Loss: 1.4803 Acc: 0.5100\n",
            "\n",
            "Epoch 14/24\n",
            "----------\n",
            "train Loss: 0.1905 Acc: 0.9245\n",
            "test Loss: 1.1943 Acc: 0.5181\n",
            "\n",
            "Epoch 15/24\n",
            "----------\n",
            "train Loss: 0.1802 Acc: 0.9303\n",
            "test Loss: 1.0671 Acc: 0.5462\n",
            "\n",
            "Epoch 16/24\n",
            "----------\n",
            "train Loss: 0.1910 Acc: 0.9245\n",
            "test Loss: 1.0490 Acc: 0.5462\n",
            "\n",
            "Epoch 17/24\n",
            "----------\n",
            "train Loss: 0.1792 Acc: 0.9297\n",
            "test Loss: 1.0995 Acc: 0.5422\n",
            "\n",
            "Epoch 18/24\n",
            "----------\n",
            "train Loss: 0.1790 Acc: 0.9280\n",
            "test Loss: 1.0831 Acc: 0.5422\n",
            "\n",
            "Epoch 19/24\n",
            "----------\n",
            "train Loss: 0.1753 Acc: 0.9291\n",
            "test Loss: 1.0955 Acc: 0.5502\n",
            "\n",
            "Epoch 20/24\n",
            "----------\n",
            "train Loss: 0.1573 Acc: 0.9395\n",
            "test Loss: 1.0518 Acc: 0.5663\n",
            "\n",
            "Epoch 21/24\n",
            "----------\n",
            "train Loss: 0.1751 Acc: 0.9332\n",
            "test Loss: 1.0482 Acc: 0.5663\n",
            "\n",
            "Epoch 22/24\n",
            "----------\n",
            "train Loss: 0.1862 Acc: 0.9263\n",
            "test Loss: 1.0547 Acc: 0.5663\n",
            "\n",
            "Epoch 23/24\n",
            "----------\n",
            "train Loss: 0.1816 Acc: 0.9297\n",
            "test Loss: 1.0559 Acc: 0.5663\n",
            "\n",
            "Epoch 24/24\n",
            "----------\n",
            "train Loss: 0.1675 Acc: 0.9395\n",
            "test Loss: 1.0584 Acc: 0.5663\n",
            "\n",
            "Training complete in 23m 28s\n",
            "Best val Acc: 0.807229\n"
          ],
          "name": "stdout"
        }
      ]
    },
    {
      "cell_type": "code",
      "metadata": {
        "id": "9F1FWx92nS5p",
        "colab_type": "code",
        "colab": {
          "base_uri": "https://localhost:8080/",
          "height": 295
        },
        "outputId": "e9eb6a24-ca0c-418d-9f05-a70d93e5fdf9"
      },
      "source": [
        "# plotting the curve \n",
        "train_acc = []\n",
        "val_acc = []\n",
        "\n",
        "# train_acc_values , val_acc_values\n",
        "\n",
        "train_acc = [h.cpu().numpy() for h in train_acc_values]\n",
        "val_acc = [h.cpu().numpy() for h in val_acc_values]\n",
        "\n",
        "plt.title(\"Resnet50 train/val Accuracy vs. Epochs\")\n",
        "plt.xlabel(\"Epochs\")\n",
        "plt.ylabel(\"Accuracy\")\n",
        "plt.plot(range(1,26),train_acc,label=\"train set\")\n",
        "plt.plot(range(1,26),val_acc,label=\"val set\")\n",
        "plt.ylim((0,1.))\n",
        "plt.xticks(np.arange(1, 26, 2.0))\n",
        "plt.legend()\n",
        "plt.show()"
      ],
      "execution_count": null,
      "outputs": [
        {
          "output_type": "display_data",
          "data": {
            "image/png": "[encoded data removed]",
            "text/plain": [
              "<Figure size 432x288 with 1 Axes>"
            ]
          },
          "metadata": {
            "tags": [],
            "needs_background": "light"
          }
        }
      ]
    },
    {
      "cell_type": "code",
      "metadata": {
        "id": "rqFG1P4enVQJ",
        "colab_type": "code",
        "colab": {}
      },
      "source": [
        "def test_acc(model):\n",
        "    model.eval()\n",
        "    running_corrects = 0\n",
        "\n",
        "    nb_classes = 2\n",
        "    confusion_matrix = torch.zeros(nb_classes, nb_classes)\n",
        "\n",
        "    predlist=torch.zeros(0,dtype=torch.long, device='cpu')\n",
        "    lbllist=torch.zeros(0,dtype=torch.long, device='cpu')\n",
        "\n",
        "    with torch.no_grad():\n",
        "        for i, (inputs, labels) in enumerate(dataloaders['val']):\n",
        "            inputs = inputs.to(device)\n",
        "            labels = labels.to(device)\n",
        "\n",
        "            outputs = model(inputs)\n",
        "            _, preds = torch.max(outputs, 1)\n",
        "\n",
        "            running_corrects += torch.sum(preds == labels.data)\n",
        "            \n",
        "            for t, p in zip(labels.view(-1), preds.view(-1)):\n",
        "                confusion_matrix[t.long(), p.long()] += 1\n",
        "\n",
        "            predlist=torch.cat([predlist,preds.view(-1).cpu()])\n",
        "            lbllist=torch.cat([lbllist,labels.view(-1).cpu()])\n",
        "\n",
        "    sk_cm = sk_confusion_matrix(lbllist.numpy(), predlist.numpy())\n",
        "\n",
        "    # testing_acc = running_corrects.double() / dataset_sizes['test']\n",
        "    testing_acc = running_corrects.double() / dataset_sizes['val']\n",
        "    return confusion_matrix , testing_acc ,sk_cm"
      ],
      "execution_count": null,
      "outputs": []
    },
    {
      "cell_type": "code",
      "metadata": {
        "id": "LMZ0NgS1nYdS",
        "colab_type": "code",
        "colab": {
          "base_uri": "https://localhost:8080/",
          "height": 102
        },
        "outputId": "6d899328-8871-421b-bf54-1458483defe5"
      },
      "source": [
        "confusion_matrix , testing_acc ,sk_cm = test_acc(model_ft)\n",
        "print(confusion_matrix, '\\n', testing_acc, '\\n',  sk_cm)"
      ],
      "execution_count": null,
      "outputs": [
        {
          "output_type": "stream",
          "text": [
            "tensor([[179.,  71.],\n",
            "        [ 20., 226.]]) \n",
            " tensor(0.8165, device='cuda:0', dtype=torch.float64) \n",
            " [[179  71]\n",
            " [ 20 226]]\n"
          ],
          "name": "stdout"
        }
      ]
    },
    {
      "cell_type": "code",
      "metadata": {
        "id": "25MQ6NZUnaNA",
        "colab_type": "code",
        "colab": {
          "base_uri": "https://localhost:8080/",
          "height": 362
        },
        "outputId": "819ac664-b2be-46f0-dba6-f78694a201c5"
      },
      "source": [
        "plot_confusion_matrix(sk_cm, class_names)"
      ],
      "execution_count": null,
      "outputs": [
        {
          "output_type": "stream",
          "text": [
            "Confusion matrix, without normalization\n",
            "[[179  71]\n",
            " [ 20 226]]\n"
          ],
          "name": "stdout"
        },
        {
          "output_type": "display_data",
          "data": {
            "image/png": "[encoded data removed]",
            "text/plain": [
              "<Figure size 432x288 with 2 Axes>"
            ]
          },
          "metadata": {
            "tags": [],
            "needs_background": "light"
          }
        }
      ]
    },
    {
      "cell_type": "code",
      "metadata": {
        "id": "kXPmfA1XGtxK",
        "colab_type": "code",
        "colab": {
          "base_uri": "https://localhost:8080/",
          "height": 102
        },
        "outputId": "f386a718-4b9d-419c-e1c4-f3cbcf3ca61a"
      },
      "source": [
        "import numpy as np\n",
        "sk_cm = np.array([[179,  71],\n",
        "        [ 20, 226]])\n",
        "\n",
        "tp = sk_cm[0][0]\n",
        "tn = sk_cm[1][1]\n",
        "fn = sk_cm[0][1]\n",
        "fp = sk_cm[1][0]\n",
        "\n",
        "precision = tp / (tp + fp)\n",
        "sensitivity = tp / (tp + fn)\n",
        "specificity = tn / (tn + fp)\n",
        "f1_score = (2*tp) / (2*tp + fp + fn)\n",
        "# accuracy = (tp+tn) / dataset_sizes['val']\n",
        "accuracy = (tp+tn) / 496\n",
        "\n",
        "print('Precision: {:.2f} %\\n Sensitivity: {:.2f} %\\n Specificity: {:.2f} %\\n F1_scorer: {:.2f} %\\n Accuracy: {:.2f} %'.format(precision*100, sensitivity*100, specificity*100, f1_score*100, accuracy*100))"
      ],
      "execution_count": 3,
      "outputs": [
        {
          "output_type": "stream",
          "text": [
            "Precision: 89.95 %\n",
            " Sensitivity: 71.60 %\n",
            " Specificity: 91.87 %\n",
            " F1_scorer: 79.73 %\n",
            " Accuracy: 81.65 %\n"
          ],
          "name": "stdout"
        }
      ]
    }
  ]
}