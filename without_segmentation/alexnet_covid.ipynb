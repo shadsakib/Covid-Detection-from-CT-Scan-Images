{
  "nbformat": 4,
  "nbformat_minor": 0,
  "metadata": {
    "colab": {
      "name": "alexnet_covid.ipynb",
      "provenance": [],
      "collapsed_sections": [],
      "mount_file_id": "1Ux219I25GDCO4lBvUltmSpqiGEdHe9_h",
      "authorship_tag": "ABX9TyPb+L1YRsmqGHU/ymG4yayc",
      "include_colab_link": true
    },
    "kernelspec": {
      "name": "python3",
      "display_name": "Python 3"
    },
    "accelerator": "GPU"
  },
  "cells": [
    {
      "cell_type": "markdown",
      "metadata": {
        "id": "view-in-github",
        "colab_type": "text"
      },
      "source": [
        "<a href=\"https://colab.research.google.com/github/Sakib97/covid_classification/blob/master/alexnet_covid.ipynb\" target=\"_parent\"><img src=\"https://colab.research.google.com/assets/colab-badge.svg\" alt=\"Open In Colab\"/></a>"
      ]
    },
    {
      "cell_type": "code",
      "metadata": {
        "id": "YOe2SEITmraw",
        "colab_type": "code",
        "colab": {}
      },
      "source": [
        "# needed for plotting confusion matrix\n",
        "import itertools\n",
        "import numpy as np\n",
        "import matplotlib.pyplot as plt\n",
        "\n",
        "def plot_confusion_matrix(cm, classes, normalize=False, title='Confusion matrix', cmap=plt.cm.Blues):\n",
        "    if normalize:\n",
        "        cm = cm.astype('float') / cm.sum(axis=1)[:, np.newaxis]\n",
        "        print(\"Normalized confusion matrix\")\n",
        "    else:\n",
        "        print('Confusion matrix, without normalization')\n",
        "\n",
        "    print(cm)\n",
        "    plt.imshow(cm, interpolation='nearest', cmap=cmap)\n",
        "    plt.title(title)\n",
        "    plt.colorbar()\n",
        "    tick_marks = np.arange(len(classes))\n",
        "    plt.xticks(tick_marks, classes, rotation=45)\n",
        "    plt.yticks(tick_marks, classes)\n",
        "\n",
        "    fmt = '.2f' if normalize else 'd'\n",
        "    thresh = cm.max() / 2.\n",
        "    for i, j in itertools.product(range(cm.shape[0]), range(cm.shape[1])):\n",
        "        plt.text(j, i, format(cm[i, j], fmt), horizontalalignment=\"center\", color=\"white\" if cm[i, j] > thresh else \"black\")\n",
        "\n",
        "    plt.tight_layout()\n",
        "    plt.ylabel('True label')\n",
        "    plt.xlabel('Predicted label')"
      ],
      "execution_count": 1,
      "outputs": []
    },
    {
      "cell_type": "code",
      "metadata": {
        "id": "4k9VaeMGnBwz",
        "colab_type": "code",
        "colab": {}
      },
      "source": [
        "from __future__ import print_function, division\n",
        "\n",
        "from sklearn.metrics import confusion_matrix as sk_confusion_matrix\n",
        "\n",
        "import torch\n",
        "import torch.nn as nn\n",
        "import torch.optim as optim\n",
        "from torch.optim import lr_scheduler\n",
        "import numpy as np\n",
        "import torchvision\n",
        "from torchvision import datasets, models, transforms\n",
        "import matplotlib.pyplot as plt\n",
        "import time\n",
        "import os\n",
        "import copy\n",
        "\n",
        "plt.ion()   # interactive mode"
      ],
      "execution_count": 2,
      "outputs": []
    },
    {
      "cell_type": "code",
      "metadata": {
        "id": "Xd1mOow2nD7R",
        "colab_type": "code",
        "colab": {}
      },
      "source": [
        "!unzip -qq '/content/drive/My Drive/Covid_datasets/CT_Scan_Brazil-20200621T154301Z-001.zip'"
      ],
      "execution_count": 3,
      "outputs": []
    },
    {
      "cell_type": "code",
      "metadata": {
        "id": "0qSx6vQUnGDp",
        "colab_type": "code",
        "colab": {}
      },
      "source": [
        "# Load Data\n",
        "# Data augmentation and normalization for training\n",
        "# Just normalization for validation\n",
        "data_transforms = {\n",
        "    'train': transforms.Compose([\n",
        "        transforms.RandomResizedCrop(224),\n",
        "        transforms.RandomHorizontalFlip(),\n",
        "        transforms.ToTensor(),\n",
        "        transforms.Normalize([0.485, 0.456, 0.406], [0.229, 0.224, 0.225])\n",
        "    ]),\n",
        "    'val': transforms.Compose([\n",
        "        transforms.Resize(256),\n",
        "        transforms.CenterCrop(224),\n",
        "        transforms.ToTensor(),\n",
        "        transforms.Normalize([0.485, 0.456, 0.406], [0.229, 0.224, 0.225])\n",
        "    ]),\n",
        "    'test': transforms.Compose([\n",
        "        transforms.Resize(256),\n",
        "        transforms.CenterCrop(224),\n",
        "        transforms.ToTensor(),\n",
        "        transforms.Normalize([0.485, 0.456, 0.406], [0.229, 0.224, 0.225])\n",
        "    ]),\n",
        "}\n",
        "\n",
        "data_dir = '/content/CT_Scan_Brazil'\n",
        "image_datasets = {x: datasets.ImageFolder(os.path.join(data_dir, x),\n",
        "                                          data_transforms[x])\n",
        "                  for x in ['train', 'val','test']}\n",
        "dataloaders = {x: torch.utils.data.DataLoader(image_datasets[x], batch_size=4,\n",
        "                                             shuffle=True, num_workers=4)\n",
        "              for x in ['train', 'val','test']}\n",
        "dataset_sizes = {x: len(image_datasets[x]) for x in ['train', 'val','test']}\n",
        "class_names = image_datasets['train'].classes\n",
        "\n",
        "device = torch.device(\"cuda:0\" if torch.cuda.is_available() else \"cpu\")\n"
      ],
      "execution_count": 4,
      "outputs": []
    },
    {
      "cell_type": "code",
      "metadata": {
        "id": "oW-LOPnInHxh",
        "colab_type": "code",
        "colab": {
          "base_uri": "https://localhost:8080/",
          "height": 88
        },
        "outputId": "0cb816f1-19e1-4bc5-8972-38402ffe1a2d"
      },
      "source": [
        "print(class_names)\n",
        "print(dataloaders)\n",
        "print(dataset_sizes)"
      ],
      "execution_count": 5,
      "outputs": [
        {
          "output_type": "stream",
          "text": [
            "['Covid', 'Non_Covid']\n",
            "{'train': <torch.utils.data.dataloader.DataLoader object at 0x7f9bfbd696a0>, 'val': <torch.utils.data.dataloader.DataLoader object at 0x7f9b906c9a20>, 'test': <torch.utils.data.dataloader.DataLoader object at 0x7f9b906c90f0>}\n",
            "{'train': 1736, 'val': 496, 'test': 249}\n"
          ],
          "name": "stdout"
        }
      ]
    },
    {
      "cell_type": "code",
      "metadata": {
        "id": "S3aKBArvnJZL",
        "colab_type": "code",
        "colab": {}
      },
      "source": [
        "# Training the model\n",
        "\n",
        "def train_model(model, criterion, optimizer, scheduler, num_epochs=25):\n",
        "    since = time.time()\n",
        "\n",
        "    best_model_wts = copy.deepcopy(model.state_dict())\n",
        "    # best_acc = 0.0\n",
        "\n",
        "    train_acc_values = [] # for plotting purpose\n",
        "    val_acc_values = [] # for plotting purpose\n",
        "\n",
        "    best_acc_test = 0.0\n",
        "\n",
        "    for epoch in range(num_epochs):\n",
        "        print('Epoch {}/{}'.format(epoch, num_epochs - 1))\n",
        "        print('-' * 10)\n",
        "\n",
        "        # Each epoch has a training and validation phase\n",
        "        # for phase in ['train', 'val','test']:\n",
        "        for phase in ['train', 'test']: # test is validation now as it contains 10% data\n",
        "            if phase == 'train':\n",
        "                model.train()  # Set model to training mode\n",
        "            else:\n",
        "                model.eval()   # Set model to evaluate mode\n",
        "\n",
        "            running_loss = 0.0\n",
        "            running_corrects = 0\n",
        "\n",
        "            # Iterate over data.\n",
        "            for inputs, labels in dataloaders[phase]:\n",
        "                inputs = inputs.to(device)\n",
        "                labels = labels.to(device)\n",
        "\n",
        "                # zero the parameter gradients\n",
        "                optimizer.zero_grad()\n",
        "\n",
        "                # forward\n",
        "                # track history if only in train\n",
        "                with torch.set_grad_enabled(phase == 'train'):\n",
        "                    outputs = model(inputs)\n",
        "                    _, preds = torch.max(outputs, 1)\n",
        "                    loss = criterion(outputs, labels)\n",
        "\n",
        "                    # backward + optimize only if in training phase\n",
        "                    if phase == 'train':\n",
        "                        loss.backward()\n",
        "                        optimizer.step()\n",
        "\n",
        "                # statistics\n",
        "                running_loss += loss.item() * inputs.size(0)\n",
        "                running_corrects += torch.sum(preds == labels.data)\n",
        "            if phase == 'train':\n",
        "                scheduler.step()\n",
        "\n",
        "            epoch_loss = running_loss / dataset_sizes[phase]\n",
        "            epoch_acc = running_corrects.double() / dataset_sizes[phase]\n",
        "            if phase == 'train':\n",
        "              train_acc_values.append(epoch_acc)\n",
        "            if phase == 'test':\n",
        "              val_acc_values.append(epoch_acc) # test is validation now as it contains 10% data\n",
        "\n",
        "            print('{} Loss: {:.4f} Acc: {:.4f}'.format(\n",
        "                phase, epoch_loss, epoch_acc))\n",
        "\n",
        "            # deep copy the model\n",
        "            # if phase == 'val' and epoch_acc > best_acc:\n",
        "            #     best_acc = epoch_acc\n",
        "            #     best_model_wts = copy.deepcopy(model.state_dict())\n",
        "            \n",
        "            if phase == 'test' and epoch_acc > best_acc_test:\n",
        "                best_acc_test = epoch_acc\n",
        "                best_model_wts = copy.deepcopy(model.state_dict())\n",
        "\n",
        "        print()\n",
        "\n",
        "    time_elapsed = time.time() - since\n",
        "    print('Training complete in {:.0f}m {:.0f}s'.format(\n",
        "        time_elapsed // 60, time_elapsed % 60))\n",
        "    # print('Best val Acc: {:4f}'.format(best_acc))\n",
        "\n",
        "    print('Best val Acc: {:4f}'.format(best_acc_test))  # test is validation now as it contains 10% data\n",
        "\n",
        "    # load best model weights\n",
        "    model.load_state_dict(best_model_wts)\n",
        "    return model , train_acc_values , val_acc_values"
      ],
      "execution_count": null,
      "outputs": []
    },
    {
      "cell_type": "code",
      "metadata": {
        "id": "sbcm-lHU1dXb",
        "colab_type": "code",
        "colab": {
          "base_uri": "https://localhost:8080/",
          "height": 476
        },
        "outputId": "fea29a19-3b8b-44ae-adf8-221dac26ceab"
      },
      "source": [
        "model_ft = models.alexnet(pretrained=True)\n",
        "print(model_ft)"
      ],
      "execution_count": null,
      "outputs": [
        {
          "output_type": "stream",
          "text": [
            "AlexNet(\n",
            "  (features): Sequential(\n",
            "    (0): Conv2d(3, 64, kernel_size=(11, 11), stride=(4, 4), padding=(2, 2))\n",
            "    (1): ReLU(inplace=True)\n",
            "    (2): MaxPool2d(kernel_size=3, stride=2, padding=0, dilation=1, ceil_mode=False)\n",
            "    (3): Conv2d(64, 192, kernel_size=(5, 5), stride=(1, 1), padding=(2, 2))\n",
            "    (4): ReLU(inplace=True)\n",
            "    (5): MaxPool2d(kernel_size=3, stride=2, padding=0, dilation=1, ceil_mode=False)\n",
            "    (6): Conv2d(192, 384, kernel_size=(3, 3), stride=(1, 1), padding=(1, 1))\n",
            "    (7): ReLU(inplace=True)\n",
            "    (8): Conv2d(384, 256, kernel_size=(3, 3), stride=(1, 1), padding=(1, 1))\n",
            "    (9): ReLU(inplace=True)\n",
            "    (10): Conv2d(256, 256, kernel_size=(3, 3), stride=(1, 1), padding=(1, 1))\n",
            "    (11): ReLU(inplace=True)\n",
            "    (12): MaxPool2d(kernel_size=3, stride=2, padding=0, dilation=1, ceil_mode=False)\n",
            "  )\n",
            "  (avgpool): AdaptiveAvgPool2d(output_size=(6, 6))\n",
            "  (classifier): Sequential(\n",
            "    (0): Dropout(p=0.5, inplace=False)\n",
            "    (1): Linear(in_features=9216, out_features=4096, bias=True)\n",
            "    (2): ReLU(inplace=True)\n",
            "    (3): Dropout(p=0.5, inplace=False)\n",
            "    (4): Linear(in_features=4096, out_features=4096, bias=True)\n",
            "    (5): ReLU(inplace=True)\n",
            "    (6): Linear(in_features=4096, out_features=1000, bias=True)\n",
            "  )\n",
            ")\n"
          ],
          "name": "stdout"
        }
      ]
    },
    {
      "cell_type": "code",
      "metadata": {
        "id": "EZMX7nG2nLnR",
        "colab_type": "code",
        "colab": {}
      },
      "source": [
        "# Finetuning the convnet\n",
        "\n",
        "\n",
        "# num_ftrs = model_ft.fc.in_features\n",
        "# # Here the size of each output sample is set to 2.\n",
        "# # Alternatively, it can be generalized to nn.Linear(num_ftrs, len(class_names)).\n",
        "# model_ft.fc = nn.Linear(num_ftrs, 2)\n",
        "\n",
        "num_ftrs = model_ft.classifier[6].in_features\n",
        "features = list(model_ft.classifier.children())[:-1] # Remove last layer\n",
        "features.extend([nn.Linear(num_ftrs, len(class_names))]) # Add our layer with 4 outputs\n",
        "model_ft.classifier = nn.Sequential(*features) # Replace the model classifier\n",
        "# print(vgg16)\n",
        "\n",
        "model_ft = model_ft.to(device)\n",
        "\n",
        "criterion = nn.CrossEntropyLoss()\n",
        "\n",
        "# Observe that all parameters are being optimized\n",
        "optimizer_ft = optim.SGD(model_ft.parameters(), lr=0.001, momentum=0.9)\n",
        "\n",
        "# Decay LR by a factor of 0.1 every 7 epochs\n",
        "exp_lr_scheduler = lr_scheduler.StepLR(optimizer_ft, step_size=7, gamma=0.1)"
      ],
      "execution_count": null,
      "outputs": []
    },
    {
      "cell_type": "code",
      "metadata": {
        "id": "GEbJLhOWHuhm",
        "colab_type": "code",
        "colab": {
          "base_uri": "https://localhost:8080/",
          "height": 476
        },
        "outputId": "7efc24c4-dba1-4bcc-bd6f-c9044c3caf21"
      },
      "source": [
        "print(model_ft)"
      ],
      "execution_count": null,
      "outputs": [
        {
          "output_type": "stream",
          "text": [
            "AlexNet(\n",
            "  (features): Sequential(\n",
            "    (0): Conv2d(3, 64, kernel_size=(11, 11), stride=(4, 4), padding=(2, 2))\n",
            "    (1): ReLU(inplace=True)\n",
            "    (2): MaxPool2d(kernel_size=3, stride=2, padding=0, dilation=1, ceil_mode=False)\n",
            "    (3): Conv2d(64, 192, kernel_size=(5, 5), stride=(1, 1), padding=(2, 2))\n",
            "    (4): ReLU(inplace=True)\n",
            "    (5): MaxPool2d(kernel_size=3, stride=2, padding=0, dilation=1, ceil_mode=False)\n",
            "    (6): Conv2d(192, 384, kernel_size=(3, 3), stride=(1, 1), padding=(1, 1))\n",
            "    (7): ReLU(inplace=True)\n",
            "    (8): Conv2d(384, 256, kernel_size=(3, 3), stride=(1, 1), padding=(1, 1))\n",
            "    (9): ReLU(inplace=True)\n",
            "    (10): Conv2d(256, 256, kernel_size=(3, 3), stride=(1, 1), padding=(1, 1))\n",
            "    (11): ReLU(inplace=True)\n",
            "    (12): MaxPool2d(kernel_size=3, stride=2, padding=0, dilation=1, ceil_mode=False)\n",
            "  )\n",
            "  (avgpool): AdaptiveAvgPool2d(output_size=(6, 6))\n",
            "  (classifier): Sequential(\n",
            "    (0): Dropout(p=0.5, inplace=False)\n",
            "    (1): Linear(in_features=9216, out_features=4096, bias=True)\n",
            "    (2): ReLU(inplace=True)\n",
            "    (3): Dropout(p=0.5, inplace=False)\n",
            "    (4): Linear(in_features=4096, out_features=4096, bias=True)\n",
            "    (5): ReLU(inplace=True)\n",
            "    (6): Linear(in_features=4096, out_features=2, bias=True)\n",
            "  )\n",
            ")\n"
          ],
          "name": "stdout"
        }
      ]
    },
    {
      "cell_type": "code",
      "metadata": {
        "id": "wji2Gep6nQYC",
        "colab_type": "code",
        "colab": {
          "base_uri": "https://localhost:8080/",
          "height": 1000
        },
        "outputId": "7015a16a-ad6b-450f-f8fb-f8a2d8ba78c7"
      },
      "source": [
        "model_ft , train_acc_values , val_acc_values = train_model(model_ft, criterion, optimizer_ft, exp_lr_scheduler,\n",
        "                       num_epochs=25)"
      ],
      "execution_count": null,
      "outputs": [
        {
          "output_type": "stream",
          "text": [
            "Epoch 0/24\n",
            "----------\n",
            "train Loss: 0.6675 Acc: 0.6210\n",
            "test Loss: 0.5888 Acc: 0.6265\n",
            "\n",
            "Epoch 1/24\n",
            "----------\n",
            "train Loss: 0.5601 Acc: 0.7235\n",
            "test Loss: 0.6831 Acc: 0.5582\n",
            "\n",
            "Epoch 2/24\n",
            "----------\n",
            "train Loss: 0.4995 Acc: 0.7586\n",
            "test Loss: 0.4311 Acc: 0.7871\n",
            "\n",
            "Epoch 3/24\n",
            "----------\n",
            "train Loss: 0.4771 Acc: 0.7961\n",
            "test Loss: 0.7615 Acc: 0.5422\n",
            "\n",
            "Epoch 4/24\n",
            "----------\n",
            "train Loss: 0.4402 Acc: 0.8116\n",
            "test Loss: 0.6562 Acc: 0.5783\n",
            "\n",
            "Epoch 5/24\n",
            "----------\n",
            "train Loss: 0.4143 Acc: 0.8306\n",
            "test Loss: 0.5554 Acc: 0.7309\n",
            "\n",
            "Epoch 6/24\n",
            "----------\n",
            "train Loss: 0.3646 Acc: 0.8554\n",
            "test Loss: 0.7253 Acc: 0.6426\n",
            "\n",
            "Epoch 7/24\n",
            "----------\n",
            "train Loss: 0.2916 Acc: 0.8871\n",
            "test Loss: 0.7105 Acc: 0.6827\n",
            "\n",
            "Epoch 8/24\n",
            "----------\n",
            "train Loss: 0.2631 Acc: 0.8986\n",
            "test Loss: 0.7411 Acc: 0.6707\n",
            "\n",
            "Epoch 9/24\n",
            "----------\n",
            "train Loss: 0.2584 Acc: 0.8934\n",
            "test Loss: 0.7156 Acc: 0.6827\n",
            "\n",
            "Epoch 10/24\n",
            "----------\n",
            "train Loss: 0.2459 Acc: 0.8998\n",
            "test Loss: 0.8553 Acc: 0.6305\n",
            "\n",
            "Epoch 11/24\n",
            "----------\n",
            "train Loss: 0.2540 Acc: 0.8980\n",
            "test Loss: 0.9371 Acc: 0.6345\n",
            "\n",
            "Epoch 12/24\n",
            "----------\n",
            "train Loss: 0.2466 Acc: 0.8998\n",
            "test Loss: 0.9121 Acc: 0.6627\n",
            "\n",
            "Epoch 13/24\n",
            "----------\n",
            "train Loss: 0.2273 Acc: 0.9044\n",
            "test Loss: 0.6982 Acc: 0.6908\n",
            "\n",
            "Epoch 14/24\n",
            "----------\n",
            "train Loss: 0.2376 Acc: 0.9021\n",
            "test Loss: 0.7709 Acc: 0.6787\n",
            "\n",
            "Epoch 15/24\n",
            "----------\n",
            "train Loss: 0.2321 Acc: 0.9044\n",
            "test Loss: 0.8196 Acc: 0.6586\n",
            "\n",
            "Epoch 16/24\n",
            "----------\n",
            "train Loss: 0.2230 Acc: 0.9078\n",
            "test Loss: 0.8426 Acc: 0.6586\n",
            "\n",
            "Epoch 17/24\n",
            "----------\n",
            "train Loss: 0.2224 Acc: 0.9050\n",
            "test Loss: 0.8510 Acc: 0.6586\n",
            "\n",
            "Epoch 18/24\n",
            "----------\n",
            "train Loss: 0.2191 Acc: 0.9073\n",
            "test Loss: 0.8638 Acc: 0.6506\n",
            "\n",
            "Epoch 19/24\n",
            "----------\n",
            "train Loss: 0.2247 Acc: 0.9101\n",
            "test Loss: 0.8876 Acc: 0.6466\n",
            "\n",
            "Epoch 20/24\n",
            "----------\n",
            "train Loss: 0.2234 Acc: 0.9009\n",
            "test Loss: 0.8682 Acc: 0.6546\n",
            "\n",
            "Epoch 21/24\n",
            "----------\n",
            "train Loss: 0.2333 Acc: 0.9044\n",
            "test Loss: 0.8664 Acc: 0.6546\n",
            "\n",
            "Epoch 22/24\n",
            "----------\n",
            "train Loss: 0.2217 Acc: 0.9050\n",
            "test Loss: 0.8621 Acc: 0.6546\n",
            "\n",
            "Epoch 23/24\n",
            "----------\n",
            "train Loss: 0.2271 Acc: 0.9084\n",
            "test Loss: 0.8542 Acc: 0.6586\n",
            "\n",
            "Epoch 24/24\n",
            "----------\n",
            "train Loss: 0.2269 Acc: 0.9107\n",
            "test Loss: 0.8554 Acc: 0.6586\n",
            "\n",
            "Training complete in 5m 42s\n",
            "Best val Acc: 0.787149\n"
          ],
          "name": "stdout"
        }
      ]
    },
    {
      "cell_type": "code",
      "metadata": {
        "id": "9F1FWx92nS5p",
        "colab_type": "code",
        "colab": {
          "base_uri": "https://localhost:8080/",
          "height": 295
        },
        "outputId": "e740e02c-2c54-445f-fbc1-dceafa950a07"
      },
      "source": [
        "# plotting the curve \n",
        "train_acc = []\n",
        "val_acc = []\n",
        "\n",
        "# train_acc_values , val_acc_values\n",
        "\n",
        "train_acc = [h.cpu().numpy() for h in train_acc_values]\n",
        "val_acc = [h.cpu().numpy() for h in val_acc_values]\n",
        "\n",
        "plt.title(\"Alexnet train/val Accuracy vs. Epochs\")\n",
        "plt.xlabel(\"Epochs\")\n",
        "plt.ylabel(\"Accuracy\")\n",
        "plt.plot(range(1,26),train_acc,label=\"train set\")\n",
        "plt.plot(range(1,26),val_acc,label=\"val set\")\n",
        "plt.ylim((0,1.))\n",
        "plt.xticks(np.arange(1, 26, 2.0))\n",
        "plt.legend()\n",
        "plt.show()"
      ],
      "execution_count": null,
      "outputs": [
        {
          "output_type": "display_data",
          "data": {
            "image/png": "[encoded data removed]",
            "text/plain": [
              "<Figure size 432x288 with 1 Axes>"
            ]
          },
          "metadata": {
            "tags": [],
            "needs_background": "light"
          }
        }
      ]
    },
    {
      "cell_type": "code",
      "metadata": {
        "id": "rqFG1P4enVQJ",
        "colab_type": "code",
        "colab": {}
      },
      "source": [
        "def test_acc(model):\n",
        "    model.eval()\n",
        "    running_corrects = 0\n",
        "\n",
        "    nb_classes = 2\n",
        "    confusion_matrix = torch.zeros(nb_classes, nb_classes)\n",
        "\n",
        "    predlist=torch.zeros(0,dtype=torch.long, device='cpu')\n",
        "    lbllist=torch.zeros(0,dtype=torch.long, device='cpu')\n",
        "\n",
        "    with torch.no_grad():\n",
        "        for i, (inputs, labels) in enumerate(dataloaders['val']):\n",
        "            inputs = inputs.to(device)\n",
        "            labels = labels.to(device)\n",
        "\n",
        "            outputs = model(inputs)\n",
        "            _, preds = torch.max(outputs, 1)\n",
        "\n",
        "            running_corrects += torch.sum(preds == labels.data)\n",
        "            \n",
        "            for t, p in zip(labels.view(-1), preds.view(-1)):\n",
        "                confusion_matrix[t.long(), p.long()] += 1\n",
        "\n",
        "            predlist=torch.cat([predlist,preds.view(-1).cpu()])\n",
        "            lbllist=torch.cat([lbllist,labels.view(-1).cpu()])\n",
        "\n",
        "    sk_cm = sk_confusion_matrix(lbllist.numpy(), predlist.numpy())\n",
        "\n",
        "    # testing_acc = running_corrects.double() / dataset_sizes['test']\n",
        "    testing_acc = running_corrects.double() / dataset_sizes['val']\n",
        "    return confusion_matrix , testing_acc ,sk_cm"
      ],
      "execution_count": null,
      "outputs": []
    },
    {
      "cell_type": "code",
      "metadata": {
        "id": "LMZ0NgS1nYdS",
        "colab_type": "code",
        "colab": {
          "base_uri": "https://localhost:8080/",
          "height": 102
        },
        "outputId": "a102622f-3888-45de-aa7a-50883b025a5c"
      },
      "source": [
        "confusion_matrix , testing_acc ,sk_cm = test_acc(model_ft)\n",
        "print(confusion_matrix, '\\n', testing_acc, '\\n',  sk_cm)"
      ],
      "execution_count": null,
      "outputs": [
        {
          "output_type": "stream",
          "text": [
            "tensor([[205.,  45.],\n",
            "        [ 51., 195.]]) \n",
            " tensor(0.8065, device='cuda:0', dtype=torch.float64) \n",
            " [[205  45]\n",
            " [ 51 195]]\n"
          ],
          "name": "stdout"
        }
      ]
    },
    {
      "cell_type": "code",
      "metadata": {
        "id": "25MQ6NZUnaNA",
        "colab_type": "code",
        "colab": {
          "base_uri": "https://localhost:8080/",
          "height": 362
        },
        "outputId": "b3ab8da6-bdb9-402b-d5f0-cfd9b62c7f54"
      },
      "source": [
        "plot_confusion_matrix(sk_cm, class_names)"
      ],
      "execution_count": null,
      "outputs": [
        {
          "output_type": "stream",
          "text": [
            "Confusion matrix, without normalization\n",
            "[[205  45]\n",
            " [ 51 195]]\n"
          ],
          "name": "stdout"
        },
        {
          "output_type": "display_data",
          "data": {
            "image/png": "[encoded data removed]",
            "text/plain": [
              "<Figure size 432x288 with 2 Axes>"
            ]
          },
          "metadata": {
            "tags": [],
            "needs_background": "light"
          }
        }
      ]
    },
    {
      "cell_type": "code",
      "metadata": {
        "id": "eMy6BpguFGhZ",
        "colab_type": "code",
        "colab": {}
      },
      "source": [
        "import numpy as np\n",
        "sk_cm = np.array([[205 , 45],\n",
        " [ 51 ,195]])"
      ],
      "execution_count": 1,
      "outputs": []
    },
    {
      "cell_type": "code",
      "metadata": {
        "id": "lRnmyT3HFiAF",
        "colab_type": "code",
        "colab": {
          "base_uri": "https://localhost:8080/",
          "height": 102
        },
        "outputId": "ee0d5ea3-cfcf-4b12-dee1-18aa73e2603e"
      },
      "source": [
        "tp = sk_cm[0][0]\n",
        "tn = sk_cm[1][1]\n",
        "fn = sk_cm[0][1]\n",
        "fp = sk_cm[1][0]\n",
        "\n",
        "precision = tp / (tp + fp)\n",
        "sensitivity = tp / (tp + fn)\n",
        "specificity = tn / (tn + fp)\n",
        "f1_score = (2*tp) / (2*tp + fp + fn)\n",
        "# f1_score = (2*precision*sensitivity) / (precision+sensitivity)\n",
        "# accuracy = (tp+tn) / dataset_sizes['val']\n",
        "accuracy = (tp+tn) / 496\n",
        "\n",
        "print('Precision: {:.2f} %\\n Sensitivity: {:.2f} %\\n Specificity: {:.2f} %\\n F1_scorer: {:.2f} %\\n Accuracy: {:.2f} %'.format(precision*100, sensitivity*100, specificity*100, f1_score*100, accuracy*100))"
      ],
      "execution_count": 3,
      "outputs": [
        {
          "output_type": "stream",
          "text": [
            "Precision: 80.08 %\n",
            " Sensitivity: 82.00 %\n",
            " Specificity: 79.27 %\n",
            " F1_scorer: 81.03 %\n",
            " Accuracy: 80.65 %\n"
          ],
          "name": "stdout"
        }
      ]
    }
  ]
}