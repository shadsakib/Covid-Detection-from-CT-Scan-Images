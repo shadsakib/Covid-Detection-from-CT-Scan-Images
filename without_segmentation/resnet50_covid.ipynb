{
  "nbformat": 4,
  "nbformat_minor": 0,
  "metadata": {
    "colab": {
      "name": "resnet50_covid.ipynb",
      "provenance": [],
      "collapsed_sections": [],
      "mount_file_id": "1vt6muqu4b9WWCkIcq9yjTmakX81DGB9N",
      "authorship_tag": "ABX9TyMfaY8pk7dDuKdq+cH/LSiL",
      "include_colab_link": true
    },
    "kernelspec": {
      "name": "python3",
      "display_name": "Python 3"
    },
    "accelerator": "GPU"
  },
  "cells": [
    {
      "cell_type": "markdown",
      "metadata": {
        "id": "view-in-github",
        "colab_type": "text"
      },
      "source": [
        "<a href=\"https://colab.research.google.com/github/Sakib97/covid_classification/blob/master/resnet50_covid.ipynb\" target=\"_parent\"><img src=\"https://colab.research.google.com/assets/colab-badge.svg\" alt=\"Open In Colab\"/></a>"
      ]
    },
    {
      "cell_type": "code",
      "metadata": {
        "id": "yrAriBs5BmHT",
        "colab_type": "code",
        "colab": {}
      },
      "source": [
        "# needed for plotting confusion matrix\n",
        "import itertools\n",
        "import numpy as np\n",
        "import matplotlib.pyplot as plt\n",
        "\n",
        "def plot_confusion_matrix(cm, classes, normalize=False, title='Confusion matrix', cmap=plt.cm.Blues):\n",
        "    if normalize:\n",
        "        cm = cm.astype('float') / cm.sum(axis=1)[:, np.newaxis]\n",
        "        print(\"Normalized confusion matrix\")\n",
        "    else:\n",
        "        print('Confusion matrix, without normalization')\n",
        "\n",
        "    print(cm)\n",
        "    plt.imshow(cm, interpolation='nearest', cmap=cmap)\n",
        "    plt.title(title)\n",
        "    plt.colorbar()\n",
        "    tick_marks = np.arange(len(classes))\n",
        "    plt.xticks(tick_marks, classes, rotation=45)\n",
        "    plt.yticks(tick_marks, classes)\n",
        "\n",
        "    fmt = '.2f' if normalize else 'd'\n",
        "    thresh = cm.max() / 2.\n",
        "    for i, j in itertools.product(range(cm.shape[0]), range(cm.shape[1])):\n",
        "        plt.text(j, i, format(cm[i, j], fmt), horizontalalignment=\"center\", color=\"white\" if cm[i, j] > thresh else \"black\")\n",
        "\n",
        "    plt.tight_layout()\n",
        "    plt.ylabel('True label')\n",
        "    plt.xlabel('Predicted label')"
      ],
      "execution_count": null,
      "outputs": []
    },
    {
      "cell_type": "code",
      "metadata": {
        "id": "MOrVH_jD7Eyc",
        "colab_type": "code",
        "colab": {}
      },
      "source": [
        "from __future__ import print_function, division\n",
        "\n",
        "from sklearn.metrics import confusion_matrix as sk_confusion_matrix\n",
        "\n",
        "import torch\n",
        "import torch.nn as nn\n",
        "import torch.optim as optim\n",
        "from torch.optim import lr_scheduler\n",
        "import numpy as np\n",
        "import torchvision\n",
        "from torchvision import datasets, models, transforms\n",
        "import matplotlib.pyplot as plt\n",
        "import time\n",
        "import os\n",
        "import copy\n",
        "\n",
        "plt.ion()   # interactive mode"
      ],
      "execution_count": null,
      "outputs": []
    },
    {
      "cell_type": "code",
      "metadata": {
        "id": "vyoUiB6a8L71",
        "colab_type": "code",
        "colab": {
          "base_uri": "https://localhost:8080/",
          "height": 34
        },
        "outputId": "1a1a5886-b876-434a-9b1a-33f40987260e"
      },
      "source": [
        "#GPU count and name\n",
        "!nvidia-smi -L"
      ],
      "execution_count": null,
      "outputs": [
        {
          "output_type": "stream",
          "text": [
            "GPU 0: Tesla P100-PCIE-16GB (UUID: GPU-dcdf89ad-d0fe-0ff8-148b-6b36e763eab8)\n"
          ],
          "name": "stdout"
        }
      ]
    },
    {
      "cell_type": "code",
      "metadata": {
        "id": "5JiLqcyu8OKs",
        "colab_type": "code",
        "colab": {}
      },
      "source": [
        "!unzip -qq '/content/drive/My Drive/Covid_datasets/CT_Scan_Brazil-20200621T154301Z-001.zip'"
      ],
      "execution_count": null,
      "outputs": []
    },
    {
      "cell_type": "code",
      "metadata": {
        "id": "Nk2jR2hV8VRb",
        "colab_type": "code",
        "colab": {}
      },
      "source": [
        "# Load Data\n",
        "# Data augmentation and normalization for training\n",
        "# Just normalization for validation\n",
        "data_transforms = {\n",
        "    'train': transforms.Compose([\n",
        "        transforms.RandomResizedCrop(224),\n",
        "        transforms.RandomHorizontalFlip(),\n",
        "        transforms.ToTensor(),\n",
        "        transforms.Normalize([0.485, 0.456, 0.406], [0.229, 0.224, 0.225])\n",
        "    ]),\n",
        "    'val': transforms.Compose([\n",
        "        transforms.Resize(256),\n",
        "        transforms.CenterCrop(224),\n",
        "        transforms.ToTensor(),\n",
        "        transforms.Normalize([0.485, 0.456, 0.406], [0.229, 0.224, 0.225])\n",
        "    ]),\n",
        "    'test': transforms.Compose([\n",
        "        transforms.Resize(256),\n",
        "        transforms.CenterCrop(224),\n",
        "        transforms.ToTensor(),\n",
        "        transforms.Normalize([0.485, 0.456, 0.406], [0.229, 0.224, 0.225])\n",
        "    ]),\n",
        "}\n",
        "\n",
        "data_dir = '/content/CT_Scan_Brazil'\n",
        "image_datasets = {x: datasets.ImageFolder(os.path.join(data_dir, x),\n",
        "                                          data_transforms[x])\n",
        "                  for x in ['train', 'val','test']}\n",
        "dataloaders = {x: torch.utils.data.DataLoader(image_datasets[x], batch_size=4,\n",
        "                                             shuffle=True, num_workers=4)\n",
        "              for x in ['train', 'val','test']}\n",
        "dataset_sizes = {x: len(image_datasets[x]) for x in ['train', 'val','test']}\n",
        "class_names = image_datasets['train'].classes\n",
        "\n",
        "device = torch.device(\"cuda:0\" if torch.cuda.is_available() else \"cpu\")\n"
      ],
      "execution_count": null,
      "outputs": []
    },
    {
      "cell_type": "code",
      "metadata": {
        "id": "b8Ah1l2S8a6r",
        "colab_type": "code",
        "colab": {
          "base_uri": "https://localhost:8080/",
          "height": 88
        },
        "outputId": "c075d742-90c8-4937-b259-1bee6c9b520e"
      },
      "source": [
        "print(class_names)\n",
        "print(dataloaders)\n",
        "print(dataset_sizes)"
      ],
      "execution_count": null,
      "outputs": [
        {
          "output_type": "stream",
          "text": [
            "['Covid', 'Non_Covid']\n",
            "{'train': <torch.utils.data.dataloader.DataLoader object at 0x7f379961be48>, 'val': <torch.utils.data.dataloader.DataLoader object at 0x7f379961b2e8>, 'test': <torch.utils.data.dataloader.DataLoader object at 0x7f37f22645f8>}\n",
            "{'train': 1736, 'val': 496, 'test': 249}\n"
          ],
          "name": "stdout"
        }
      ]
    },
    {
      "cell_type": "code",
      "metadata": {
        "id": "xhdLVm6I8giT",
        "colab_type": "code",
        "colab": {}
      },
      "source": [
        "# Training the model\n",
        "\n",
        "def train_model(model, criterion, optimizer, scheduler, num_epochs=25):\n",
        "    since = time.time()\n",
        "\n",
        "    best_model_wts = copy.deepcopy(model.state_dict())\n",
        "    # best_acc = 0.0\n",
        "\n",
        "    train_acc_values = [] # for plotting purpose\n",
        "    val_acc_values = [] # for plotting purpose\n",
        "\n",
        "    best_acc_test = 0.0\n",
        "\n",
        "    for epoch in range(num_epochs):\n",
        "        print('Epoch {}/{}'.format(epoch, num_epochs - 1))\n",
        "        print('-' * 10)\n",
        "\n",
        "        # Each epoch has a training and validation phase\n",
        "        # for phase in ['train', 'val','test']:\n",
        "        for phase in ['train', 'test']: # test is validation now as it contains 10% data\n",
        "            if phase == 'train':\n",
        "                model.train()  # Set model to training mode\n",
        "            else:\n",
        "                model.eval()   # Set model to evaluate mode\n",
        "\n",
        "            running_loss = 0.0\n",
        "            running_corrects = 0\n",
        "\n",
        "            # Iterate over data.\n",
        "            for inputs, labels in dataloaders[phase]:\n",
        "                inputs = inputs.to(device)\n",
        "                labels = labels.to(device)\n",
        "\n",
        "                # zero the parameter gradients\n",
        "                optimizer.zero_grad()\n",
        "\n",
        "                # forward\n",
        "                # track history if only in train\n",
        "                with torch.set_grad_enabled(phase == 'train'):\n",
        "                    outputs = model(inputs)\n",
        "                    _, preds = torch.max(outputs, 1)\n",
        "                    loss = criterion(outputs, labels)\n",
        "\n",
        "                    # backward + optimize only if in training phase\n",
        "                    if phase == 'train':\n",
        "                        loss.backward()\n",
        "                        optimizer.step()\n",
        "\n",
        "                # statistics\n",
        "                running_loss += loss.item() * inputs.size(0)\n",
        "                running_corrects += torch.sum(preds == labels.data)\n",
        "            if phase == 'train':\n",
        "                scheduler.step()\n",
        "\n",
        "            epoch_loss = running_loss / dataset_sizes[phase]\n",
        "            epoch_acc = running_corrects.double() / dataset_sizes[phase]\n",
        "            if phase == 'train':\n",
        "              train_acc_values.append(epoch_acc)\n",
        "            if phase == 'test':\n",
        "              val_acc_values.append(epoch_acc) # test is validation now as it contains 10% data\n",
        "\n",
        "            print('{} Loss: {:.4f} Acc: {:.4f}'.format(\n",
        "                phase, epoch_loss, epoch_acc))\n",
        "\n",
        "            # deep copy the model\n",
        "            # if phase == 'val' and epoch_acc > best_acc:\n",
        "            #     best_acc = epoch_acc\n",
        "            #     best_model_wts = copy.deepcopy(model.state_dict())\n",
        "            \n",
        "            if phase == 'test' and epoch_acc > best_acc_test:\n",
        "                best_acc_test = epoch_acc\n",
        "                best_model_wts = copy.deepcopy(model.state_dict())\n",
        "\n",
        "        print()\n",
        "\n",
        "    time_elapsed = time.time() - since\n",
        "    print('Training complete in {:.0f}m {:.0f}s'.format(\n",
        "        time_elapsed // 60, time_elapsed % 60))\n",
        "    # print('Best val Acc: {:4f}'.format(best_acc))\n",
        "\n",
        "    print('Best val Acc: {:4f}'.format(best_acc_test))  # test is validation now as it contains 10% data\n",
        "\n",
        "    # load best model weights\n",
        "    model.load_state_dict(best_model_wts)\n",
        "    return model , train_acc_values , val_acc_values"
      ],
      "execution_count": null,
      "outputs": []
    },
    {
      "cell_type": "code",
      "metadata": {
        "id": "m2EEGqsi8m2V",
        "colab_type": "code",
        "colab": {}
      },
      "source": [
        "# Finetuning the convnet\n",
        "\n",
        "model_ft = models.resnet50(pretrained=True)\n",
        "num_ftrs = model_ft.fc.in_features\n",
        "# Here the size of each output sample is set to 2.\n",
        "# Alternatively, it can be generalized to nn.Linear(num_ftrs, len(class_names)).\n",
        "model_ft.fc = nn.Linear(num_ftrs, 2)\n",
        "\n",
        "model_ft = model_ft.to(device)\n",
        "\n",
        "criterion = nn.CrossEntropyLoss()\n",
        "\n",
        "# Observe that all parameters are being optimized\n",
        "optimizer_ft = optim.SGD(model_ft.parameters(), lr=0.001, momentum=0.9)\n",
        "\n",
        "# Decay LR by a factor of 0.1 every 7 epochs\n",
        "exp_lr_scheduler = lr_scheduler.StepLR(optimizer_ft, step_size=7, gamma=0.1)"
      ],
      "execution_count": null,
      "outputs": []
    },
    {
      "cell_type": "code",
      "metadata": {
        "id": "lTmForal81DL",
        "colab_type": "code",
        "colab": {}
      },
      "source": [
        "print(num_ftrs)\n",
        "print(model_ft.fc)\n",
        "# print(criterion)\n",
        "# print(optimizer_ft)\n",
        "# print(exp_lr_scheduler)\n",
        "print(model_ft)"
      ],
      "execution_count": null,
      "outputs": []
    },
    {
      "cell_type": "code",
      "metadata": {
        "id": "S6MiheG89DE7",
        "colab_type": "code",
        "colab": {
          "base_uri": "https://localhost:8080/",
          "height": 1000
        },
        "outputId": "8595190a-f657-4ea7-8ac6-39964ca4e219"
      },
      "source": [
        "model_ft , train_acc_values , val_acc_values = train_model(model_ft, criterion, optimizer_ft, exp_lr_scheduler,\n",
        "                       num_epochs=25)"
      ],
      "execution_count": null,
      "outputs": [
        {
          "output_type": "stream",
          "text": [
            "Epoch 0/24\n",
            "----------\n",
            "train Loss: 0.6232 Acc: 0.7258\n",
            "test Loss: 0.6129 Acc: 0.7149\n",
            "\n",
            "Epoch 1/24\n",
            "----------\n",
            "train Loss: 0.5478 Acc: 0.7800\n",
            "test Loss: 1.2842 Acc: 0.6145\n",
            "\n",
            "Epoch 2/24\n",
            "----------\n",
            "train Loss: 0.4740 Acc: 0.8065\n",
            "test Loss: 0.5859 Acc: 0.7149\n",
            "\n",
            "Epoch 3/24\n",
            "----------\n",
            "train Loss: 0.4314 Acc: 0.8139\n",
            "test Loss: 0.8870 Acc: 0.5622\n",
            "\n",
            "Epoch 4/24\n",
            "----------\n",
            "train Loss: 0.3827 Acc: 0.8370\n",
            "test Loss: 0.8193 Acc: 0.6185\n",
            "\n",
            "Epoch 5/24\n",
            "----------\n",
            "train Loss: 0.3228 Acc: 0.8658\n",
            "test Loss: 0.6384 Acc: 0.7390\n",
            "\n",
            "Epoch 6/24\n",
            "----------\n",
            "train Loss: 0.2726 Acc: 0.8929\n",
            "test Loss: 0.4882 Acc: 0.7671\n",
            "\n",
            "Epoch 7/24\n",
            "----------\n",
            "train Loss: 0.2438 Acc: 0.9032\n",
            "test Loss: 0.9284 Acc: 0.5904\n",
            "\n",
            "Epoch 8/24\n",
            "----------\n",
            "train Loss: 0.2155 Acc: 0.9107\n",
            "test Loss: 0.8298 Acc: 0.6064\n",
            "\n",
            "Epoch 9/24\n",
            "----------\n",
            "train Loss: 0.2126 Acc: 0.9142\n",
            "test Loss: 0.9561 Acc: 0.5783\n",
            "\n",
            "Epoch 10/24\n",
            "----------\n",
            "train Loss: 0.1913 Acc: 0.9309\n",
            "test Loss: 0.9518 Acc: 0.5622\n",
            "\n",
            "Epoch 11/24\n",
            "----------\n",
            "train Loss: 0.1956 Acc: 0.9205\n",
            "test Loss: 0.8427 Acc: 0.5944\n",
            "\n",
            "Epoch 12/24\n",
            "----------\n",
            "train Loss: 0.1787 Acc: 0.9320\n",
            "test Loss: 1.0537 Acc: 0.5663\n",
            "\n",
            "Epoch 13/24\n",
            "----------\n",
            "train Loss: 0.1851 Acc: 0.9268\n",
            "test Loss: 0.6911 Acc: 0.6908\n",
            "\n",
            "Epoch 14/24\n",
            "----------\n",
            "train Loss: 0.1814 Acc: 0.9268\n",
            "test Loss: 0.7791 Acc: 0.6265\n",
            "\n",
            "Epoch 15/24\n",
            "----------\n",
            "train Loss: 0.1697 Acc: 0.9349\n",
            "test Loss: 0.8904 Acc: 0.6225\n",
            "\n",
            "Epoch 16/24\n",
            "----------\n",
            "train Loss: 0.1684 Acc: 0.9343\n",
            "test Loss: 0.8329 Acc: 0.6104\n",
            "\n",
            "Epoch 17/24\n",
            "----------\n",
            "train Loss: 0.1814 Acc: 0.9286\n",
            "test Loss: 0.8927 Acc: 0.5904\n",
            "\n",
            "Epoch 18/24\n",
            "----------\n",
            "train Loss: 0.1753 Acc: 0.9274\n",
            "test Loss: 0.8290 Acc: 0.6386\n",
            "\n",
            "Epoch 19/24\n",
            "----------\n",
            "train Loss: 0.1681 Acc: 0.9320\n",
            "test Loss: 0.7742 Acc: 0.6586\n",
            "\n",
            "Epoch 20/24\n",
            "----------\n",
            "train Loss: 0.1646 Acc: 0.9366\n",
            "test Loss: 0.9266 Acc: 0.6064\n",
            "\n",
            "Epoch 21/24\n",
            "----------\n",
            "train Loss: 0.1705 Acc: 0.9355\n",
            "test Loss: 0.7240 Acc: 0.6586\n",
            "\n",
            "Epoch 22/24\n",
            "----------\n",
            "train Loss: 0.1708 Acc: 0.9355\n",
            "test Loss: 0.8131 Acc: 0.6104\n",
            "\n",
            "Epoch 23/24\n",
            "----------\n",
            "train Loss: 0.1677 Acc: 0.9424\n",
            "test Loss: 0.9223 Acc: 0.5984\n",
            "\n",
            "Epoch 24/24\n",
            "----------\n",
            "train Loss: 0.1698 Acc: 0.9332\n",
            "test Loss: 0.9954 Acc: 0.5783\n",
            "\n",
            "Training complete in 11m 41s\n",
            "Best val Acc: 0.767068\n"
          ],
          "name": "stdout"
        }
      ]
    },
    {
      "cell_type": "code",
      "metadata": {
        "id": "S7kk_fqazBPX",
        "colab_type": "code",
        "colab": {
          "base_uri": "https://localhost:8080/",
          "height": 295
        },
        "outputId": "7416b5b7-d646-43fb-9386-f7bc80b3b7ef"
      },
      "source": [
        "# plotting the curve \n",
        "train_acc = []\n",
        "val_acc = []\n",
        "\n",
        "# train_acc_values , val_acc_values\n",
        "\n",
        "train_acc = [h.cpu().numpy() for h in train_acc_values]\n",
        "val_acc = [h.cpu().numpy() for h in val_acc_values]\n",
        "\n",
        "plt.title(\"Resnet50 train/val Accuracy vs. Epochs\")\n",
        "plt.xlabel(\"Epochs\")\n",
        "plt.ylabel(\"Accuracy\")\n",
        "plt.plot(range(1,26),train_acc,label=\"train set\")\n",
        "plt.plot(range(1,26),val_acc,label=\"val set\")\n",
        "plt.ylim((0,1.))\n",
        "plt.xticks(np.arange(1, 26, 2.0))\n",
        "plt.legend()\n",
        "plt.show()"
      ],
      "execution_count": null,
      "outputs": [
        {
          "output_type": "display_data",
          "data": {
            "image/png": "[encoded data removed]",
            "text/plain": [
              "<Figure size 432x288 with 1 Axes>"
            ]
          },
          "metadata": {
            "tags": [],
            "needs_background": "light"
          }
        }
      ]
    },
    {
      "cell_type": "code",
      "metadata": {
        "id": "m7gU_SQZ4GA8",
        "colab_type": "code",
        "colab": {}
      },
      "source": [
        "def test_acc(model):\n",
        "    model.eval()\n",
        "    running_corrects = 0\n",
        "\n",
        "    nb_classes = 2\n",
        "    confusion_matrix = torch.zeros(nb_classes, nb_classes)\n",
        "\n",
        "    predlist=torch.zeros(0,dtype=torch.long, device='cpu')\n",
        "    lbllist=torch.zeros(0,dtype=torch.long, device='cpu')\n",
        "\n",
        "    with torch.no_grad():\n",
        "        for i, (inputs, labels) in enumerate(dataloaders['val']):\n",
        "            inputs = inputs.to(device)\n",
        "            labels = labels.to(device)\n",
        "\n",
        "            outputs = model(inputs)\n",
        "            _, preds = torch.max(outputs, 1)\n",
        "\n",
        "            running_corrects += torch.sum(preds == labels.data)\n",
        "            \n",
        "            for t, p in zip(labels.view(-1), preds.view(-1)):\n",
        "                confusion_matrix[t.long(), p.long()] += 1\n",
        "\n",
        "            predlist=torch.cat([predlist,preds.view(-1).cpu()])\n",
        "            lbllist=torch.cat([lbllist,labels.view(-1).cpu()])\n",
        "\n",
        "    sk_cm = sk_confusion_matrix(lbllist.numpy(), predlist.numpy())\n",
        "\n",
        "    # testing_acc = running_corrects.double() / dataset_sizes['test']\n",
        "    testing_acc = running_corrects.double() / dataset_sizes['val']\n",
        "    return confusion_matrix , testing_acc ,sk_cm"
      ],
      "execution_count": null,
      "outputs": []
    },
    {
      "cell_type": "code",
      "metadata": {
        "id": "7uwulwZn47uh",
        "colab_type": "code",
        "colab": {
          "base_uri": "https://localhost:8080/",
          "height": 102
        },
        "outputId": "71bfc484-8cdf-43a3-a93a-6e7c40ebfc1b"
      },
      "source": [
        "confusion_matrix , testing_acc ,sk_cm = test_acc(model_ft)\n",
        "print(confusion_matrix, '\\n', testing_acc, '\\n',  sk_cm)"
      ],
      "execution_count": null,
      "outputs": [
        {
          "output_type": "stream",
          "text": [
            "tensor([[171.,  79.],\n",
            "        [  6., 240.]]) \n",
            " tensor(0.8286, device='cuda:0', dtype=torch.float64) \n",
            " [[171  79]\n",
            " [  6 240]]\n"
          ],
          "name": "stdout"
        }
      ]
    },
    {
      "cell_type": "code",
      "metadata": {
        "id": "r4gMwNS950Wj",
        "colab_type": "code",
        "colab": {
          "base_uri": "https://localhost:8080/",
          "height": 362
        },
        "outputId": "689aeb18-fbca-4eaa-a3e5-52e7c3f3b1c0"
      },
      "source": [
        "plot_confusion_matrix(sk_cm, class_names)"
      ],
      "execution_count": null,
      "outputs": [
        {
          "output_type": "stream",
          "text": [
            "Confusion matrix, without normalization\n",
            "[[171  79]\n",
            " [  6 240]]\n"
          ],
          "name": "stdout"
        },
        {
          "output_type": "display_data",
          "data": {
            "image/png": "[encoded data removed]",
            "text/plain": [
              "<Figure size 432x288 with 2 Axes>"
            ]
          },
          "metadata": {
            "tags": [],
            "needs_background": "light"
          }
        }
      ]
    },
    {
      "cell_type": "code",
      "metadata": {
        "id": "OlfqV1QwLy3z",
        "colab_type": "code",
        "colab": {
          "base_uri": "https://localhost:8080/",
          "height": 51
        },
        "outputId": "875331ff-1cdf-4d2b-e08b-e4ae50a0edfe"
      },
      "source": [
        "import numpy as np\n",
        "sk_cm = np.array([[171,  79],\n",
        "                 [  6, 240]])\n",
        "sk_cm"
      ],
      "execution_count": null,
      "outputs": [
        {
          "output_type": "execute_result",
          "data": {
            "text/plain": [
              "array([[171,  79],\n",
              "       [  6, 240]])"
            ]
          },
          "metadata": {
            "tags": []
          },
          "execution_count": 2
        }
      ]
    },
    {
      "cell_type": "code",
      "metadata": {
        "id": "M5CGCMb_Ijj9",
        "colab_type": "code",
        "colab": {
          "base_uri": "https://localhost:8080/",
          "height": 102
        },
        "outputId": "66124a7d-a4d2-4bca-9015-a0e97a6240b0"
      },
      "source": [
        "import numpy as np\n",
        "sk_cm = np.array([[171,  79],\n",
        "                 [  6, 240]] )\n",
        "\n",
        "tp = sk_cm[0][0]\n",
        "tn = sk_cm[1][1]\n",
        "fn = sk_cm[0][1]\n",
        "fp = sk_cm[1][0]\n",
        "\n",
        "precision = tp / (tp + fp)\n",
        "sensitivity = tp / (tp + fn)\n",
        "specificity = tn / (tn + fp)\n",
        "f1_score = (2*tp) / (2*tp + fp + fn)\n",
        "# accuracy = (tp+tn) / dataset_sizes['val']\n",
        "accuracy = (tp+tn) / 496\n",
        "\n",
        "print('Precision: {:.2f} %\\n Sensitivity: {:.2f} %\\n Specificity: {:.2f} %\\n F1_scorer: {:.2f} %\\n Accuracy: {:.2f} %'.format(precision*100, sensitivity*100, specificity*100, f1_score*100, accuracy*100))"
      ],
      "execution_count": 1,
      "outputs": [
        {
          "output_type": "stream",
          "text": [
            "Precision: 96.61 %\n",
            " Sensitivity: 68.40 %\n",
            " Specificity: 97.56 %\n",
            " F1_scorer: 80.09 %\n",
            " Accuracy: 82.86 %\n"
          ],
          "name": "stdout"
        }
      ]
    }
  ]
}