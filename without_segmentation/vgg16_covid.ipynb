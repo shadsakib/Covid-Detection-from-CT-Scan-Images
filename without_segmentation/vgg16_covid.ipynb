{
  "nbformat": 4,
  "nbformat_minor": 0,
  "metadata": {
    "colab": {
      "name": "vgg16_covid.ipynb",
      "provenance": [],
      "collapsed_sections": [],
      "mount_file_id": "1oHXobRq-wq4OMOu2SvsLGdizTAH5id1M",
      "authorship_tag": "ABX9TyMu2kFRbKLvREOGu+wyfiOS",
      "include_colab_link": true
    },
    "kernelspec": {
      "name": "python3",
      "display_name": "Python 3"
    },
    "accelerator": "GPU",
    "widgets": {
      "application/vnd.jupyter.widget-state+json": {
        "8f8991dcc18f4b1fbf385c10c754816c": {
          "model_module": "@jupyter-widgets/controls",
          "model_name": "HBoxModel",
          "state": {
            "_view_name": "HBoxView",
            "_dom_classes": [],
            "_model_name": "HBoxModel",
            "_view_module": "@jupyter-widgets/controls",
            "_model_module_version": "1.5.0",
            "_view_count": null,
            "_view_module_version": "1.5.0",
            "box_style": "",
            "layout": "IPY_MODEL_e5e7003d2f1f45a0b9780d895e4f0f30",
            "_model_module": "@jupyter-widgets/controls",
            "children": [
              "IPY_MODEL_2fa8280898c14481b2656c2fe5adc8c6",
              "IPY_MODEL_4dba1955b6124553b5c7b88c7ab47e30"
            ]
          }
        },
        "e5e7003d2f1f45a0b9780d895e4f0f30": {
          "model_module": "@jupyter-widgets/base",
          "model_name": "LayoutModel",
          "state": {
            "_view_name": "LayoutView",
            "grid_template_rows": null,
            "right": null,
            "justify_content": null,
            "_view_module": "@jupyter-widgets/base",
            "overflow": null,
            "_model_module_version": "1.2.0",
            "_view_count": null,
            "flex_flow": null,
            "width": null,
            "min_width": null,
            "border": null,
            "align_items": null,
            "bottom": null,
            "_model_module": "@jupyter-widgets/base",
            "top": null,
            "grid_column": null,
            "overflow_y": null,
            "overflow_x": null,
            "grid_auto_flow": null,
            "grid_area": null,
            "grid_template_columns": null,
            "flex": null,
            "_model_name": "LayoutModel",
            "justify_items": null,
            "grid_row": null,
            "max_height": null,
            "align_content": null,
            "visibility": null,
            "align_self": null,
            "height": null,
            "min_height": null,
            "padding": null,
            "grid_auto_rows": null,
            "grid_gap": null,
            "max_width": null,
            "order": null,
            "_view_module_version": "1.2.0",
            "grid_template_areas": null,
            "object_position": null,
            "object_fit": null,
            "grid_auto_columns": null,
            "margin": null,
            "display": null,
            "left": null
          }
        },
        "2fa8280898c14481b2656c2fe5adc8c6": {
          "model_module": "@jupyter-widgets/controls",
          "model_name": "FloatProgressModel",
          "state": {
            "_view_name": "ProgressView",
            "style": "IPY_MODEL_5b0536bfebbb48eab995071402b04958",
            "_dom_classes": [],
            "description": "100%",
            "_model_name": "FloatProgressModel",
            "bar_style": "success",
            "max": 553433881,
            "_view_module": "@jupyter-widgets/controls",
            "_model_module_version": "1.5.0",
            "value": 553433881,
            "_view_count": null,
            "_view_module_version": "1.5.0",
            "orientation": "horizontal",
            "min": 0,
            "description_tooltip": null,
            "_model_module": "@jupyter-widgets/controls",
            "layout": "IPY_MODEL_90ab700659ee4ad8b42d5b7645aae370"
          }
        },
        "4dba1955b6124553b5c7b88c7ab47e30": {
          "model_module": "@jupyter-widgets/controls",
          "model_name": "HTMLModel",
          "state": {
            "_view_name": "HTMLView",
            "style": "IPY_MODEL_c075a57382594bf38fd462a19db53012",
            "_dom_classes": [],
            "description": "",
            "_model_name": "HTMLModel",
            "placeholder": "​",
            "_view_module": "@jupyter-widgets/controls",
            "_model_module_version": "1.5.0",
            "value": " 528M/528M [00:02&lt;00:00, 198MB/s]",
            "_view_count": null,
            "_view_module_version": "1.5.0",
            "description_tooltip": null,
            "_model_module": "@jupyter-widgets/controls",
            "layout": "IPY_MODEL_250f2fe75dbb4b03966e400a46c3d68e"
          }
        },
        "5b0536bfebbb48eab995071402b04958": {
          "model_module": "@jupyter-widgets/controls",
          "model_name": "ProgressStyleModel",
          "state": {
            "_view_name": "StyleView",
            "_model_name": "ProgressStyleModel",
            "description_width": "initial",
            "_view_module": "@jupyter-widgets/base",
            "_model_module_version": "1.5.0",
            "_view_count": null,
            "_view_module_version": "1.2.0",
            "bar_color": null,
            "_model_module": "@jupyter-widgets/controls"
          }
        },
        "90ab700659ee4ad8b42d5b7645aae370": {
          "model_module": "@jupyter-widgets/base",
          "model_name": "LayoutModel",
          "state": {
            "_view_name": "LayoutView",
            "grid_template_rows": null,
            "right": null,
            "justify_content": null,
            "_view_module": "@jupyter-widgets/base",
            "overflow": null,
            "_model_module_version": "1.2.0",
            "_view_count": null,
            "flex_flow": null,
            "width": null,
            "min_width": null,
            "border": null,
            "align_items": null,
            "bottom": null,
            "_model_module": "@jupyter-widgets/base",
            "top": null,
            "grid_column": null,
            "overflow_y": null,
            "overflow_x": null,
            "grid_auto_flow": null,
            "grid_area": null,
            "grid_template_columns": null,
            "flex": null,
            "_model_name": "LayoutModel",
            "justify_items": null,
            "grid_row": null,
            "max_height": null,
            "align_content": null,
            "visibility": null,
            "align_self": null,
            "height": null,
            "min_height": null,
            "padding": null,
            "grid_auto_rows": null,
            "grid_gap": null,
            "max_width": null,
            "order": null,
            "_view_module_version": "1.2.0",
            "grid_template_areas": null,
            "object_position": null,
            "object_fit": null,
            "grid_auto_columns": null,
            "margin": null,
            "display": null,
            "left": null
          }
        },
        "c075a57382594bf38fd462a19db53012": {
          "model_module": "@jupyter-widgets/controls",
          "model_name": "DescriptionStyleModel",
          "state": {
            "_view_name": "StyleView",
            "_model_name": "DescriptionStyleModel",
            "description_width": "",
            "_view_module": "@jupyter-widgets/base",
            "_model_module_version": "1.5.0",
            "_view_count": null,
            "_view_module_version": "1.2.0",
            "_model_module": "@jupyter-widgets/controls"
          }
        },
        "250f2fe75dbb4b03966e400a46c3d68e": {
          "model_module": "@jupyter-widgets/base",
          "model_name": "LayoutModel",
          "state": {
            "_view_name": "LayoutView",
            "grid_template_rows": null,
            "right": null,
            "justify_content": null,
            "_view_module": "@jupyter-widgets/base",
            "overflow": null,
            "_model_module_version": "1.2.0",
            "_view_count": null,
            "flex_flow": null,
            "width": null,
            "min_width": null,
            "border": null,
            "align_items": null,
            "bottom": null,
            "_model_module": "@jupyter-widgets/base",
            "top": null,
            "grid_column": null,
            "overflow_y": null,
            "overflow_x": null,
            "grid_auto_flow": null,
            "grid_area": null,
            "grid_template_columns": null,
            "flex": null,
            "_model_name": "LayoutModel",
            "justify_items": null,
            "grid_row": null,
            "max_height": null,
            "align_content": null,
            "visibility": null,
            "align_self": null,
            "height": null,
            "min_height": null,
            "padding": null,
            "grid_auto_rows": null,
            "grid_gap": null,
            "max_width": null,
            "order": null,
            "_view_module_version": "1.2.0",
            "grid_template_areas": null,
            "object_position": null,
            "object_fit": null,
            "grid_auto_columns": null,
            "margin": null,
            "display": null,
            "left": null
          }
        }
      }
    }
  },
  "cells": [
    {
      "cell_type": "markdown",
      "metadata": {
        "id": "view-in-github",
        "colab_type": "text"
      },
      "source": [
        "<a href=\"https://colab.research.google.com/github/Sakib97/covid_classification/blob/master/vgg16_covid.ipynb\" target=\"_parent\"><img src=\"https://colab.research.google.com/assets/colab-badge.svg\" alt=\"Open In Colab\"/></a>"
      ]
    },
    {
      "cell_type": "code",
      "metadata": {
        "id": "YOe2SEITmraw",
        "colab_type": "code",
        "colab": {}
      },
      "source": [
        "# needed for plotting confusion matrix\n",
        "import itertools\n",
        "import numpy as np\n",
        "import matplotlib.pyplot as plt\n",
        "\n",
        "def plot_confusion_matrix(cm, classes, normalize=False, title='Confusion matrix', cmap=plt.cm.Blues):\n",
        "    if normalize:\n",
        "        cm = cm.astype('float') / cm.sum(axis=1)[:, np.newaxis]\n",
        "        print(\"Normalized confusion matrix\")\n",
        "    else:\n",
        "        print('Confusion matrix, without normalization')\n",
        "\n",
        "    print(cm)\n",
        "    plt.imshow(cm, interpolation='nearest', cmap=cmap)\n",
        "    plt.title(title)\n",
        "    plt.colorbar()\n",
        "    tick_marks = np.arange(len(classes))\n",
        "    plt.xticks(tick_marks, classes, rotation=45)\n",
        "    plt.yticks(tick_marks, classes)\n",
        "\n",
        "    fmt = '.2f' if normalize else 'd'\n",
        "    thresh = cm.max() / 2.\n",
        "    for i, j in itertools.product(range(cm.shape[0]), range(cm.shape[1])):\n",
        "        plt.text(j, i, format(cm[i, j], fmt), horizontalalignment=\"center\", color=\"white\" if cm[i, j] > thresh else \"black\")\n",
        "\n",
        "    plt.tight_layout()\n",
        "    plt.ylabel('True label')\n",
        "    plt.xlabel('Predicted label')"
      ],
      "execution_count": null,
      "outputs": []
    },
    {
      "cell_type": "code",
      "metadata": {
        "id": "4k9VaeMGnBwz",
        "colab_type": "code",
        "colab": {}
      },
      "source": [
        "from __future__ import print_function, division\n",
        "\n",
        "from sklearn.metrics import confusion_matrix as sk_confusion_matrix\n",
        "\n",
        "import torch\n",
        "import torch.nn as nn\n",
        "import torch.optim as optim\n",
        "from torch.optim import lr_scheduler\n",
        "import numpy as np\n",
        "import torchvision\n",
        "from torchvision import datasets, models, transforms\n",
        "import matplotlib.pyplot as plt\n",
        "import time\n",
        "import os\n",
        "import copy\n",
        "\n",
        "plt.ion()   # interactive mode"
      ],
      "execution_count": null,
      "outputs": []
    },
    {
      "cell_type": "code",
      "metadata": {
        "id": "Xd1mOow2nD7R",
        "colab_type": "code",
        "colab": {}
      },
      "source": [
        "!unzip -qq '/content/drive/My Drive/Covid_datasets/CT_Scan_Brazil-20200621T154301Z-001.zip'"
      ],
      "execution_count": null,
      "outputs": []
    },
    {
      "cell_type": "code",
      "metadata": {
        "id": "0qSx6vQUnGDp",
        "colab_type": "code",
        "colab": {}
      },
      "source": [
        "# Load Data\n",
        "# Data augmentation and normalization for training\n",
        "# Just normalization for validation\n",
        "data_transforms = {\n",
        "    'train': transforms.Compose([\n",
        "        transforms.RandomResizedCrop(224),\n",
        "        transforms.RandomHorizontalFlip(),\n",
        "        transforms.ToTensor(),\n",
        "        transforms.Normalize([0.485, 0.456, 0.406], [0.229, 0.224, 0.225])\n",
        "    ]),\n",
        "    'val': transforms.Compose([\n",
        "        transforms.Resize(256),\n",
        "        transforms.CenterCrop(224),\n",
        "        transforms.ToTensor(),\n",
        "        transforms.Normalize([0.485, 0.456, 0.406], [0.229, 0.224, 0.225])\n",
        "    ]),\n",
        "    'test': transforms.Compose([\n",
        "        transforms.Resize(256),\n",
        "        transforms.CenterCrop(224),\n",
        "        transforms.ToTensor(),\n",
        "        transforms.Normalize([0.485, 0.456, 0.406], [0.229, 0.224, 0.225])\n",
        "    ]),\n",
        "}\n",
        "\n",
        "data_dir = '/content/CT_Scan_Brazil'\n",
        "image_datasets = {x: datasets.ImageFolder(os.path.join(data_dir, x),\n",
        "                                          data_transforms[x])\n",
        "                  for x in ['train', 'val','test']}\n",
        "dataloaders = {x: torch.utils.data.DataLoader(image_datasets[x], batch_size=4,\n",
        "                                             shuffle=True, num_workers=4)\n",
        "              for x in ['train', 'val','test']}\n",
        "dataset_sizes = {x: len(image_datasets[x]) for x in ['train', 'val','test']}\n",
        "class_names = image_datasets['train'].classes\n",
        "\n",
        "device = torch.device(\"cuda:0\" if torch.cuda.is_available() else \"cpu\")\n"
      ],
      "execution_count": null,
      "outputs": []
    },
    {
      "cell_type": "code",
      "metadata": {
        "id": "oW-LOPnInHxh",
        "colab_type": "code",
        "colab": {
          "base_uri": "https://localhost:8080/",
          "height": 88
        },
        "outputId": "1251e996-c0df-4a11-8e10-870ae8154168"
      },
      "source": [
        "print(class_names)\n",
        "print(dataloaders)\n",
        "print(dataset_sizes)"
      ],
      "execution_count": null,
      "outputs": [
        {
          "output_type": "stream",
          "text": [
            "['Covid', 'Non_Covid']\n",
            "{'train': <torch.utils.data.dataloader.DataLoader object at 0x7f2a46637320>, 'val': <torch.utils.data.dataloader.DataLoader object at 0x7f2a466375f8>, 'test': <torch.utils.data.dataloader.DataLoader object at 0x7f2a46637668>}\n",
            "{'train': 1736, 'val': 496, 'test': 249}\n"
          ],
          "name": "stdout"
        }
      ]
    },
    {
      "cell_type": "code",
      "metadata": {
        "id": "S3aKBArvnJZL",
        "colab_type": "code",
        "colab": {}
      },
      "source": [
        "# Training the model\n",
        "\n",
        "def train_model(model, criterion, optimizer, scheduler, num_epochs=25):\n",
        "    since = time.time()\n",
        "\n",
        "    best_model_wts = copy.deepcopy(model.state_dict())\n",
        "    # best_acc = 0.0\n",
        "\n",
        "    train_acc_values = [] # for plotting purpose\n",
        "    val_acc_values = [] # for plotting purpose\n",
        "\n",
        "    best_acc_test = 0.0\n",
        "\n",
        "    for epoch in range(num_epochs):\n",
        "        print('Epoch {}/{}'.format(epoch, num_epochs - 1))\n",
        "        print('-' * 10)\n",
        "\n",
        "        # Each epoch has a training and validation phase\n",
        "        # for phase in ['train', 'val','test']:\n",
        "        for phase in ['train', 'test']: # test is validation now as it contains 10% data\n",
        "            if phase == 'train':\n",
        "                model.train()  # Set model to training mode\n",
        "            else:\n",
        "                model.eval()   # Set model to evaluate mode\n",
        "\n",
        "            running_loss = 0.0\n",
        "            running_corrects = 0\n",
        "\n",
        "            # Iterate over data.\n",
        "            for inputs, labels in dataloaders[phase]:\n",
        "                inputs = inputs.to(device)\n",
        "                labels = labels.to(device)\n",
        "\n",
        "                # zero the parameter gradients\n",
        "                optimizer.zero_grad()\n",
        "\n",
        "                # forward\n",
        "                # track history if only in train\n",
        "                with torch.set_grad_enabled(phase == 'train'):\n",
        "                    outputs = model(inputs)\n",
        "                    _, preds = torch.max(outputs, 1)\n",
        "                    loss = criterion(outputs, labels)\n",
        "\n",
        "                    # backward + optimize only if in training phase\n",
        "                    if phase == 'train':\n",
        "                        loss.backward()\n",
        "                        optimizer.step()\n",
        "\n",
        "                # statistics\n",
        "                running_loss += loss.item() * inputs.size(0)\n",
        "                running_corrects += torch.sum(preds == labels.data)\n",
        "            if phase == 'train':\n",
        "                scheduler.step()\n",
        "\n",
        "            epoch_loss = running_loss / dataset_sizes[phase]\n",
        "            epoch_acc = running_corrects.double() / dataset_sizes[phase]\n",
        "            if phase == 'train':\n",
        "              train_acc_values.append(epoch_acc)\n",
        "            if phase == 'test':\n",
        "              val_acc_values.append(epoch_acc) # test is validation now as it contains 10% data\n",
        "\n",
        "            print('{} Loss: {:.4f} Acc: {:.4f}'.format(\n",
        "                phase, epoch_loss, epoch_acc))\n",
        "\n",
        "            # deep copy the model\n",
        "            # if phase == 'val' and epoch_acc > best_acc:\n",
        "            #     best_acc = epoch_acc\n",
        "            #     best_model_wts = copy.deepcopy(model.state_dict())\n",
        "            \n",
        "            if phase == 'test' and epoch_acc > best_acc_test:\n",
        "                best_acc_test = epoch_acc\n",
        "                best_model_wts = copy.deepcopy(model.state_dict())\n",
        "\n",
        "        print()\n",
        "\n",
        "    time_elapsed = time.time() - since\n",
        "    print('Training complete in {:.0f}m {:.0f}s'.format(\n",
        "        time_elapsed // 60, time_elapsed % 60))\n",
        "    # print('Best val Acc: {:4f}'.format(best_acc))\n",
        "\n",
        "    print('Best val Acc: {:4f}'.format(best_acc_test))  # test is validation now as it contains 10% data\n",
        "\n",
        "    # load best model weights\n",
        "    model.load_state_dict(best_model_wts)\n",
        "    return model , train_acc_values , val_acc_values"
      ],
      "execution_count": null,
      "outputs": []
    },
    {
      "cell_type": "code",
      "metadata": {
        "id": "sfl5z66SG-NP",
        "colab_type": "code",
        "colab": {
          "base_uri": "https://localhost:8080/",
          "height": 848,
          "referenced_widgets": [
            "8f8991dcc18f4b1fbf385c10c754816c",
            "e5e7003d2f1f45a0b9780d895e4f0f30",
            "2fa8280898c14481b2656c2fe5adc8c6",
            "4dba1955b6124553b5c7b88c7ab47e30",
            "5b0536bfebbb48eab995071402b04958",
            "90ab700659ee4ad8b42d5b7645aae370",
            "c075a57382594bf38fd462a19db53012",
            "250f2fe75dbb4b03966e400a46c3d68e"
          ]
        },
        "outputId": "6d2e90d8-7923-4cfc-873e-51f5440849bf"
      },
      "source": [
        "model_ft = models.vgg16(pretrained=True)\n",
        "print(model_ft)"
      ],
      "execution_count": null,
      "outputs": [
        {
          "output_type": "stream",
          "text": [
            "Downloading: \"https://download.pytorch.org/models/vgg16-397923af.pth\" to /root/.cache/torch/hub/checkpoints/vgg16-397923af.pth\n"
          ],
          "name": "stderr"
        },
        {
          "output_type": "display_data",
          "data": {
            "application/vnd.jupyter.widget-view+json": {
              "model_id": "8f8991dcc18f4b1fbf385c10c754816c",
              "version_minor": 0,
              "version_major": 2
            },
            "text/plain": [
              "HBox(children=(FloatProgress(value=0.0, max=553433881.0), HTML(value='')))"
            ]
          },
          "metadata": {
            "tags": []
          }
        },
        {
          "output_type": "stream",
          "text": [
            "\n",
            "VGG(\n",
            "  (features): Sequential(\n",
            "    (0): Conv2d(3, 64, kernel_size=(3, 3), stride=(1, 1), padding=(1, 1))\n",
            "    (1): ReLU(inplace=True)\n",
            "    (2): Conv2d(64, 64, kernel_size=(3, 3), stride=(1, 1), padding=(1, 1))\n",
            "    (3): ReLU(inplace=True)\n",
            "    (4): MaxPool2d(kernel_size=2, stride=2, padding=0, dilation=1, ceil_mode=False)\n",
            "    (5): Conv2d(64, 128, kernel_size=(3, 3), stride=(1, 1), padding=(1, 1))\n",
            "    (6): ReLU(inplace=True)\n",
            "    (7): Conv2d(128, 128, kernel_size=(3, 3), stride=(1, 1), padding=(1, 1))\n",
            "    (8): ReLU(inplace=True)\n",
            "    (9): MaxPool2d(kernel_size=2, stride=2, padding=0, dilation=1, ceil_mode=False)\n",
            "    (10): Conv2d(128, 256, kernel_size=(3, 3), stride=(1, 1), padding=(1, 1))\n",
            "    (11): ReLU(inplace=True)\n",
            "    (12): Conv2d(256, 256, kernel_size=(3, 3), stride=(1, 1), padding=(1, 1))\n",
            "    (13): ReLU(inplace=True)\n",
            "    (14): Conv2d(256, 256, kernel_size=(3, 3), stride=(1, 1), padding=(1, 1))\n",
            "    (15): ReLU(inplace=True)\n",
            "    (16): MaxPool2d(kernel_size=2, stride=2, padding=0, dilation=1, ceil_mode=False)\n",
            "    (17): Conv2d(256, 512, kernel_size=(3, 3), stride=(1, 1), padding=(1, 1))\n",
            "    (18): ReLU(inplace=True)\n",
            "    (19): Conv2d(512, 512, kernel_size=(3, 3), stride=(1, 1), padding=(1, 1))\n",
            "    (20): ReLU(inplace=True)\n",
            "    (21): Conv2d(512, 512, kernel_size=(3, 3), stride=(1, 1), padding=(1, 1))\n",
            "    (22): ReLU(inplace=True)\n",
            "    (23): MaxPool2d(kernel_size=2, stride=2, padding=0, dilation=1, ceil_mode=False)\n",
            "    (24): Conv2d(512, 512, kernel_size=(3, 3), stride=(1, 1), padding=(1, 1))\n",
            "    (25): ReLU(inplace=True)\n",
            "    (26): Conv2d(512, 512, kernel_size=(3, 3), stride=(1, 1), padding=(1, 1))\n",
            "    (27): ReLU(inplace=True)\n",
            "    (28): Conv2d(512, 512, kernel_size=(3, 3), stride=(1, 1), padding=(1, 1))\n",
            "    (29): ReLU(inplace=True)\n",
            "    (30): MaxPool2d(kernel_size=2, stride=2, padding=0, dilation=1, ceil_mode=False)\n",
            "  )\n",
            "  (avgpool): AdaptiveAvgPool2d(output_size=(7, 7))\n",
            "  (classifier): Sequential(\n",
            "    (0): Linear(in_features=25088, out_features=4096, bias=True)\n",
            "    (1): ReLU(inplace=True)\n",
            "    (2): Dropout(p=0.5, inplace=False)\n",
            "    (3): Linear(in_features=4096, out_features=4096, bias=True)\n",
            "    (4): ReLU(inplace=True)\n",
            "    (5): Dropout(p=0.5, inplace=False)\n",
            "    (6): Linear(in_features=4096, out_features=1000, bias=True)\n",
            "  )\n",
            ")\n"
          ],
          "name": "stdout"
        }
      ]
    },
    {
      "cell_type": "code",
      "metadata": {
        "id": "EZMX7nG2nLnR",
        "colab_type": "code",
        "colab": {}
      },
      "source": [
        "# Finetuning the convnet\n",
        "\n",
        "model_ft = models.vgg16(pretrained=True)\n",
        "# num_ftrs = model_ft.fc.in_features\n",
        "# # Here the size of each output sample is set to 2.\n",
        "# # Alternatively, it can be generalized to nn.Linear(num_ftrs, len(class_names)).\n",
        "# model_ft.fc = nn.Linear(num_ftrs, 2)\n",
        "\n",
        "num_ftrs = model_ft.classifier[6].in_features\n",
        "features = list(model_ft.classifier.children())[:-1] # Remove last layer\n",
        "features.extend([nn.Linear(num_ftrs, len(class_names))]) # Add our layer with 4 outputs\n",
        "model_ft.classifier = nn.Sequential(*features) # Replace the model classifier\n",
        "# print(vgg16)\n",
        "\n",
        "model_ft = model_ft.to(device)\n",
        "\n",
        "criterion = nn.CrossEntropyLoss()\n",
        "\n",
        "# Observe that all parameters are being optimized\n",
        "optimizer_ft = optim.SGD(model_ft.parameters(), lr=0.001, momentum=0.9)\n",
        "# optimizer_ft = optim.Adam(model_ft.parameters(), lr=0.001, momentum=0.9)\n",
        "\n",
        "# Decay LR by a factor of 0.1 every 7 epochs\n",
        "exp_lr_scheduler = lr_scheduler.StepLR(optimizer_ft, step_size=7, gamma=0.1)"
      ],
      "execution_count": null,
      "outputs": []
    },
    {
      "cell_type": "code",
      "metadata": {
        "id": "wji2Gep6nQYC",
        "colab_type": "code",
        "colab": {
          "base_uri": "https://localhost:8080/",
          "height": 1000
        },
        "outputId": "082927a7-6dd3-460c-838b-59a07c94563e"
      },
      "source": [
        "model_ft , train_acc_values , val_acc_values = train_model(model_ft, criterion, optimizer_ft, exp_lr_scheduler,\n",
        "                       num_epochs=25)"
      ],
      "execution_count": null,
      "outputs": [
        {
          "output_type": "stream",
          "text": [
            "Epoch 0/24\n",
            "----------\n",
            "train Loss: 0.5364 Acc: 0.7563\n",
            "test Loss: 0.8410 Acc: 0.5261\n",
            "\n",
            "Epoch 1/24\n",
            "----------\n",
            "train Loss: 0.3613 Acc: 0.8548\n",
            "test Loss: 0.8678 Acc: 0.5301\n",
            "\n",
            "Epoch 2/24\n",
            "----------\n",
            "train Loss: 0.3305 Acc: 0.8750\n",
            "test Loss: 0.9610 Acc: 0.5382\n",
            "\n",
            "Epoch 3/24\n",
            "----------\n",
            "train Loss: 0.2806 Acc: 0.8934\n",
            "test Loss: 1.2163 Acc: 0.6145\n",
            "\n",
            "Epoch 4/24\n",
            "----------\n",
            "train Loss: 0.3199 Acc: 0.8710\n",
            "test Loss: 0.9761 Acc: 0.5301\n",
            "\n",
            "Epoch 5/24\n",
            "----------\n",
            "train Loss: 0.3366 Acc: 0.8600\n",
            "test Loss: 1.3045 Acc: 0.5221\n",
            "\n",
            "Epoch 6/24\n",
            "----------\n",
            "train Loss: 0.2645 Acc: 0.8940\n",
            "test Loss: 0.9860 Acc: 0.5462\n",
            "\n",
            "Epoch 7/24\n",
            "----------\n",
            "train Loss: 0.1990 Acc: 0.9171\n",
            "test Loss: 0.8830 Acc: 0.5743\n",
            "\n",
            "Epoch 8/24\n",
            "----------\n",
            "train Loss: 0.1923 Acc: 0.9205\n",
            "test Loss: 0.9454 Acc: 0.5663\n",
            "\n",
            "Epoch 9/24\n",
            "----------\n",
            "train Loss: 0.1952 Acc: 0.9217\n",
            "test Loss: 0.8693 Acc: 0.5783\n",
            "\n",
            "Epoch 10/24\n",
            "----------\n",
            "train Loss: 0.1807 Acc: 0.9268\n",
            "test Loss: 1.1590 Acc: 0.5622\n",
            "\n",
            "Epoch 11/24\n",
            "----------\n",
            "train Loss: 0.1707 Acc: 0.9297\n",
            "test Loss: 1.0113 Acc: 0.5663\n",
            "\n",
            "Epoch 12/24\n",
            "----------\n",
            "train Loss: 0.1710 Acc: 0.9245\n",
            "test Loss: 1.3016 Acc: 0.5502\n",
            "\n",
            "Epoch 13/24\n",
            "----------\n",
            "train Loss: 0.1601 Acc: 0.9320\n",
            "test Loss: 1.0147 Acc: 0.6064\n",
            "\n",
            "Epoch 14/24\n",
            "----------\n",
            "train Loss: 0.1598 Acc: 0.9378\n",
            "test Loss: 1.0752 Acc: 0.6024\n",
            "\n",
            "Epoch 15/24\n",
            "----------\n",
            "train Loss: 0.1630 Acc: 0.9286\n",
            "test Loss: 1.0857 Acc: 0.5944\n",
            "\n",
            "Epoch 16/24\n",
            "----------\n",
            "train Loss: 0.1641 Acc: 0.9251\n",
            "test Loss: 1.0690 Acc: 0.5944\n",
            "\n",
            "Epoch 17/24\n",
            "----------\n",
            "train Loss: 0.1568 Acc: 0.9280\n",
            "test Loss: 1.0331 Acc: 0.5944\n",
            "\n",
            "Epoch 18/24\n",
            "----------\n",
            "train Loss: 0.1460 Acc: 0.9372\n",
            "test Loss: 1.1246 Acc: 0.5944\n",
            "\n",
            "Epoch 19/24\n",
            "----------\n",
            "train Loss: 0.1498 Acc: 0.9332\n",
            "test Loss: 1.0978 Acc: 0.5944\n",
            "\n",
            "Epoch 20/24\n",
            "----------\n",
            "train Loss: 0.1477 Acc: 0.9361\n",
            "test Loss: 1.1366 Acc: 0.5863\n",
            "\n",
            "Epoch 21/24\n",
            "----------\n",
            "train Loss: 0.1553 Acc: 0.9263\n",
            "test Loss: 1.1317 Acc: 0.5863\n",
            "\n",
            "Epoch 22/24\n",
            "----------\n",
            "train Loss: 0.1525 Acc: 0.9361\n",
            "test Loss: 1.1258 Acc: 0.5863\n",
            "\n",
            "Epoch 23/24\n",
            "----------\n",
            "train Loss: 0.1450 Acc: 0.9372\n",
            "test Loss: 1.1310 Acc: 0.5863\n",
            "\n",
            "Epoch 24/24\n",
            "----------\n",
            "train Loss: 0.1553 Acc: 0.9355\n",
            "test Loss: 1.1240 Acc: 0.5863\n",
            "\n",
            "Training complete in 11m 16s\n",
            "Best val Acc: 0.614458\n"
          ],
          "name": "stdout"
        }
      ]
    },
    {
      "cell_type": "code",
      "metadata": {
        "id": "9F1FWx92nS5p",
        "colab_type": "code",
        "colab": {
          "base_uri": "https://localhost:8080/",
          "height": 295
        },
        "outputId": "f04ae71b-39f4-4054-b224-b8cab8877065"
      },
      "source": [
        "# plotting the curve epoch 1-25\n",
        "train_acc = []\n",
        "val_acc = []\n",
        "\n",
        "# train_acc_values , val_acc_values\n",
        "\n",
        "train_acc = [h.cpu().numpy() for h in train_acc_values]\n",
        "val_acc = [h.cpu().numpy() for h in val_acc_values]\n",
        "\n",
        "plt.title(\"Vgg16 train/val Accuracy vs. Epochs\")\n",
        "plt.xlabel(\"Epochs\")\n",
        "plt.ylabel(\"Accuracy\")\n",
        "plt.plot(range(1,26),train_acc,label=\"train set\")\n",
        "plt.plot(range(1,26),val_acc,label=\"val set\")\n",
        "plt.ylim((0,1.))\n",
        "plt.xticks(np.arange(1, 26, 2.0))\n",
        "plt.legend()\n",
        "plt.show()"
      ],
      "execution_count": null,
      "outputs": [
        {
          "output_type": "display_data",
          "data": {
            "image/png": "[encoded data removed]",
            "text/plain": [
              "<Figure size 432x288 with 1 Axes>"
            ]
          },
          "metadata": {
            "tags": [],
            "needs_background": "light"
          }
        }
      ]
    },
    {
      "cell_type": "code",
      "metadata": {
        "id": "rqFG1P4enVQJ",
        "colab_type": "code",
        "colab": {}
      },
      "source": [
        "def test_acc(model):\n",
        "    model.eval()\n",
        "    running_corrects = 0\n",
        "\n",
        "    nb_classes = 2\n",
        "    confusion_matrix = torch.zeros(nb_classes, nb_classes)\n",
        "\n",
        "    predlist=torch.zeros(0,dtype=torch.long, device='cpu')\n",
        "    lbllist=torch.zeros(0,dtype=torch.long, device='cpu')\n",
        "\n",
        "    with torch.no_grad():\n",
        "        for i, (inputs, labels) in enumerate(dataloaders['val']):\n",
        "            inputs = inputs.to(device)\n",
        "            labels = labels.to(device)\n",
        "\n",
        "            outputs = model(inputs)\n",
        "            _, preds = torch.max(outputs, 1)\n",
        "\n",
        "            running_corrects += torch.sum(preds == labels.data)\n",
        "            \n",
        "            for t, p in zip(labels.view(-1), preds.view(-1)):\n",
        "                confusion_matrix[t.long(), p.long()] += 1\n",
        "\n",
        "            predlist=torch.cat([predlist,preds.view(-1).cpu()])\n",
        "            lbllist=torch.cat([lbllist,labels.view(-1).cpu()])\n",
        "\n",
        "    sk_cm = sk_confusion_matrix(lbllist.numpy(), predlist.numpy())\n",
        "\n",
        "    # testing_acc = running_corrects.double() / dataset_sizes['test']\n",
        "    testing_acc = running_corrects.double() / dataset_sizes['val']\n",
        "    return confusion_matrix , testing_acc ,sk_cm"
      ],
      "execution_count": null,
      "outputs": []
    },
    {
      "cell_type": "code",
      "metadata": {
        "id": "LMZ0NgS1nYdS",
        "colab_type": "code",
        "colab": {
          "base_uri": "https://localhost:8080/",
          "height": 102
        },
        "outputId": "398e19e0-d993-4093-9752-b8c61eb493f8"
      },
      "source": [
        "confusion_matrix , testing_acc ,sk_cm = test_acc(model_ft)\n",
        "print(confusion_matrix, '\\n', testing_acc, '\\n',  sk_cm)"
      ],
      "execution_count": null,
      "outputs": [
        {
          "output_type": "stream",
          "text": [
            "tensor([[171.,  79.],\n",
            "        [  8., 238.]]) \n",
            " tensor(0.8246, device='cuda:0', dtype=torch.float64) \n",
            " [[171  79]\n",
            " [  8 238]]\n"
          ],
          "name": "stdout"
        }
      ]
    },
    {
      "cell_type": "code",
      "metadata": {
        "id": "25MQ6NZUnaNA",
        "colab_type": "code",
        "colab": {
          "base_uri": "https://localhost:8080/",
          "height": 362
        },
        "outputId": "28776aaa-0e23-451b-bbe7-94e46e3f65c6"
      },
      "source": [
        "plot_confusion_matrix(sk_cm, class_names)"
      ],
      "execution_count": null,
      "outputs": [
        {
          "output_type": "stream",
          "text": [
            "Confusion matrix, without normalization\n",
            "[[171  79]\n",
            " [  8 238]]\n"
          ],
          "name": "stdout"
        },
        {
          "output_type": "display_data",
          "data": {
            "image/png": "[encoded data removed]",
            "text/plain": [
              "<Figure size 432x288 with 2 Axes>"
            ]
          },
          "metadata": {
            "tags": [],
            "needs_background": "light"
          }
        }
      ]
    },
    {
      "cell_type": "code",
      "metadata": {
        "id": "m7sWJCBuHg8P",
        "colab_type": "code",
        "colab": {
          "base_uri": "https://localhost:8080/",
          "height": 102
        },
        "outputId": "f273b708-2e5e-4a68-d1cf-172246535cd8"
      },
      "source": [
        "import numpy as np\n",
        "sk_cm = np.array([[171.,  79.],\n",
        "        [  8., 238.]] )\n",
        "\n",
        "tp = sk_cm[0][0]\n",
        "tn = sk_cm[1][1]\n",
        "fn = sk_cm[0][1]\n",
        "fp = sk_cm[1][0]\n",
        "\n",
        "precision = tp / (tp + fp)\n",
        "sensitivity = tp / (tp + fn)\n",
        "specificity = tn / (tn + fp)\n",
        "f1_score = (2*tp) / (2*tp + fp + fn)\n",
        "# accuracy = (tp+tn) / dataset_sizes['val']\n",
        "accuracy = (tp+tn) / 496\n",
        "\n",
        "print('Precision: {:.2f} %\\n Sensitivity: {:.2f} %\\n Specificity: {:.2f} %\\n F1_scorer: {:.2f} %\\n Accuracy: {:.2f} %'.format(precision*100, sensitivity*100, specificity*100, f1_score*100, accuracy*100))"
      ],
      "execution_count": 1,
      "outputs": [
        {
          "output_type": "stream",
          "text": [
            "Precision: 95.53 %\n",
            " Sensitivity: 68.40 %\n",
            " Specificity: 96.75 %\n",
            " F1_scorer: 79.72 %\n",
            " Accuracy: 82.46 %\n"
          ],
          "name": "stdout"
        }
      ]
    }
  ]
}