{
  "nbformat": 4,
  "nbformat_minor": 0,
  "metadata": {
    "colab": {
      "name": "densenet169_unet_covid.ipynb",
      "provenance": [],
      "collapsed_sections": []
    },
    "kernelspec": {
      "name": "python3",
      "display_name": "Python 3"
    },
    "accelerator": "GPU"
  },
  "cells": [
    {
      "cell_type": "code",
      "metadata": {
        "id": "twwoBs1wQqDw"
      },
      "source": [
        "! pip install git+https://github.com/qubvel/segmentation_models.pytorch"
      ],
      "execution_count": null,
      "outputs": []
    },
    {
      "cell_type": "code",
      "metadata": {
        "id": "3RwmCki5QuGe"
      },
      "source": [
        "import torch\n",
        "import segmentation_models_pytorch as smp\n",
        "from PIL import Image"
      ],
      "execution_count": null,
      "outputs": []
    },
    {
      "cell_type": "code",
      "metadata": {
        "id": "bXR4KbrMKCgV"
      },
      "source": [
        "# needed for plotting confusion matrix\n",
        "import itertools\n",
        "import numpy as np\n",
        "import matplotlib.pyplot as plt\n",
        "\n",
        "def plot_confusion_matrix(cm, classes, normalize=False, title='Confusion matrix', cmap=plt.cm.Blues):\n",
        "    if normalize:\n",
        "        cm = cm.astype('float') / cm.sum(axis=1)[:, np.newaxis]\n",
        "        print(\"Normalized confusion matrix\")\n",
        "    else:\n",
        "        print('Confusion matrix, without normalization')\n",
        "\n",
        "    print(cm)\n",
        "    plt.imshow(cm, interpolation='nearest', cmap=cmap)\n",
        "    plt.title(title)\n",
        "    plt.colorbar()\n",
        "    tick_marks = np.arange(len(classes))\n",
        "    plt.xticks(tick_marks, classes, rotation=45)\n",
        "    plt.yticks(tick_marks, classes)\n",
        "\n",
        "    fmt = '.2f' if normalize else 'd'\n",
        "    thresh = cm.max() / 2.\n",
        "    for i, j in itertools.product(range(cm.shape[0]), range(cm.shape[1])):\n",
        "        plt.text(j, i, format(cm[i, j], fmt), horizontalalignment=\"center\", color=\"white\" if cm[i, j] > thresh else \"black\")\n",
        "\n",
        "    plt.tight_layout()\n",
        "    plt.ylabel('True label')\n",
        "    plt.xlabel('Predicted label')"
      ],
      "execution_count": null,
      "outputs": []
    },
    {
      "cell_type": "code",
      "metadata": {
        "id": "19B9UEWj2LOK"
      },
      "source": [
        "from __future__ import print_function, division\n",
        "\n",
        "from sklearn.metrics import confusion_matrix as sk_confusion_matrix\n",
        "\n",
        "import torch\n",
        "import torch.nn as nn\n",
        "import torch.optim as optim\n",
        "from torch.optim import lr_scheduler\n",
        "import numpy as np\n",
        "import torchvision\n",
        "from torchvision import datasets, models, transforms\n",
        "import matplotlib.pyplot as plt\n",
        "import time\n",
        "import os\n",
        "import copy\n",
        "\n",
        "plt.ion()   # interactive mode"
      ],
      "execution_count": null,
      "outputs": []
    },
    {
      "cell_type": "code",
      "metadata": {
        "id": "WI3IJnpf2O1p"
      },
      "source": [
        "!unzip -qq '/content/drive/My Drive/Colab Notebooks/CT_Scan_Brazil-20200621T154301Z-001.zip'"
      ],
      "execution_count": null,
      "outputs": []
    },
    {
      "cell_type": "code",
      "metadata": {
        "id": "ujzxb1gV2RvT"
      },
      "source": [
        "# Load Data\n",
        "# Data augmentation and normalization for training\n",
        "# Just normalization for validation\n",
        "data_transforms = {\n",
        "    'train': transforms.Compose([\n",
        "        transforms.RandomResizedCrop(224),\n",
        "        transforms.RandomHorizontalFlip(),\n",
        "        transforms.ToTensor(),\n",
        "        transforms.Normalize([0.485, 0.456, 0.406], [0.229, 0.224, 0.225])\n",
        "    ]),\n",
        "    'val': transforms.Compose([\n",
        "        transforms.Resize(256),\n",
        "        transforms.CenterCrop(224),\n",
        "        transforms.ToTensor(),\n",
        "        transforms.Normalize([0.485, 0.456, 0.406], [0.229, 0.224, 0.225])\n",
        "    ]),\n",
        "    'test': transforms.Compose([\n",
        "        transforms.Resize(256),\n",
        "        transforms.CenterCrop(224),\n",
        "        transforms.ToTensor(),\n",
        "        transforms.Normalize([0.485, 0.456, 0.406], [0.229, 0.224, 0.225])\n",
        "    ]),\n",
        "}\n",
        "\n",
        "data_dir = '/content/CT_Scan_Brazil'\n",
        "image_datasets = {x: datasets.ImageFolder(os.path.join(data_dir, x),\n",
        "                                          data_transforms[x])\n",
        "                  for x in ['train', 'val','test']}\n",
        "dataloaders = {x: torch.utils.data.DataLoader(image_datasets[x], batch_size=4,\n",
        "                                             shuffle=True, num_workers=4)\n",
        "              for x in ['train', 'val','test']}\n",
        "dataset_sizes = {x: len(image_datasets[x]) for x in ['train', 'val','test']}\n",
        "class_names = image_datasets['train'].classes\n",
        "\n",
        "device = torch.device(\"cuda:0\" if torch.cuda.is_available() else \"cpu\")\n"
      ],
      "execution_count": null,
      "outputs": []
    },
    {
      "cell_type": "code",
      "metadata": {
        "id": "dIql7iBt2UTh",
        "outputId": "99158919-1af6-4cba-c5d9-ed8fce5d149a",
        "colab": {
          "base_uri": "https://localhost:8080/",
          "height": 88
        }
      },
      "source": [
        "print(class_names)\n",
        "print(dataloaders)\n",
        "print(dataset_sizes)"
      ],
      "execution_count": null,
      "outputs": [
        {
          "output_type": "stream",
          "text": [
            "['Covid', 'Non_Covid']\n",
            "{'train': <torch.utils.data.dataloader.DataLoader object at 0x7f48b15f5320>, 'val': <torch.utils.data.dataloader.DataLoader object at 0x7f48b15f59b0>, 'test': <torch.utils.data.dataloader.DataLoader object at 0x7f48b15f5a20>}\n",
            "{'train': 1736, 'val': 496, 'test': 249}\n"
          ],
          "name": "stdout"
        }
      ]
    },
    {
      "cell_type": "code",
      "metadata": {
        "id": "ixY91qY_QhdF"
      },
      "source": [
        "# needed for unet\n",
        "aux_params=dict(\n",
        "    pooling='avg',             # one of 'avg', 'max'\n",
        "    dropout=0.5,               # dropout ratio, default is None\n",
        "    activation='sigmoid',      # activation function, default is None\n",
        "    classes=2,                 # define number of output labels\n",
        ")"
      ],
      "execution_count": null,
      "outputs": []
    },
    {
      "cell_type": "code",
      "metadata": {
        "id": "iZoiLvCf2Wup"
      },
      "source": [
        "# Training the model\n",
        "\n",
        "def train_model(model, criterion, optimizer, scheduler, num_epochs=25):\n",
        "    since = time.time()\n",
        "\n",
        "    best_model_wts = copy.deepcopy(model.state_dict())\n",
        "    # best_acc = 0.0\n",
        "\n",
        "    train_acc_values = [] # for plotting purpose\n",
        "    val_acc_values = [] # for plotting purpose\n",
        "\n",
        "    best_acc_test = 0.0\n",
        "\n",
        "    for epoch in range(num_epochs):\n",
        "        print('Epoch {}/{}'.format(epoch, num_epochs - 1))\n",
        "        print('-' * 10)\n",
        "\n",
        "        # Each epoch has a training and validation phase\n",
        "        # for phase in ['train', 'val','test']:\n",
        "        for phase in ['train', 'test']: # test is validation now as it contains 10% data\n",
        "            if phase == 'train':\n",
        "                model.train()  # Set model to training mode\n",
        "            else:\n",
        "                model.eval()   # Set model to evaluate mode\n",
        "\n",
        "            running_loss = 0.0\n",
        "            running_corrects = 0\n",
        "\n",
        "            # Iterate over data.\n",
        "            for inputs, labels in dataloaders[phase]:\n",
        "                inputs = inputs.to(device)\n",
        "                labels = labels.to(device)\n",
        "\n",
        "                # zero the parameter gradients\n",
        "                optimizer.zero_grad()\n",
        "\n",
        "                # forward\n",
        "                # track history if only in train\n",
        "                with torch.set_grad_enabled(phase == 'train'):\n",
        "                    # outputs = model(inputs)\n",
        "                    mask, outputs = model(inputs) # Unet\n",
        "                    _,preds = torch.max(outputs, 1)\n",
        "\n",
        "                    # print(preds[0]) # unet test\n",
        "                    \n",
        "                    loss = criterion(outputs, labels)\n",
        "\n",
        "                    # backward + optimize only if in training phase\n",
        "                    if phase == 'train':\n",
        "                        loss.backward()\n",
        "                        optimizer.step()\n",
        "\n",
        "                # statistics\n",
        "                running_loss += loss.item() * inputs.size(0)\n",
        "                running_corrects += torch.sum(preds == labels.data)\n",
        "                \n",
        "            if phase == 'train':\n",
        "                scheduler.step()\n",
        "\n",
        "            epoch_loss = running_loss / dataset_sizes[phase]\n",
        "            epoch_acc = running_corrects.double() / dataset_sizes[phase]\n",
        "            if phase == 'train':\n",
        "              train_acc_values.append(epoch_acc)\n",
        "            if phase == 'test':\n",
        "              val_acc_values.append(epoch_acc) # test is validation now as it contains 10% data\n",
        "\n",
        "            print('{} Loss: {:.4f} Acc: {:.4f}'.format(\n",
        "                phase, epoch_loss, epoch_acc))\n",
        "\n",
        "            # deep copy the model\n",
        "            # if phase == 'val' and epoch_acc > best_acc:\n",
        "            #     best_acc = epoch_acc\n",
        "            #     best_model_wts = copy.deepcopy(model.state_dict())\n",
        "            \n",
        "            if phase == 'test' and epoch_acc > best_acc_test:\n",
        "                best_acc_test = epoch_acc\n",
        "                best_model_wts = copy.deepcopy(model.state_dict())\n",
        "\n",
        "        print()\n",
        "\n",
        "    time_elapsed = time.time() - since\n",
        "    print('Training complete in {:.0f}m {:.0f}s'.format(\n",
        "        time_elapsed // 60, time_elapsed % 60))\n",
        "    # print('Best val Acc: {:4f}'.format(best_acc))\n",
        "\n",
        "    print('Best val Acc: {:4f}'.format(best_acc_test))  # test is validation now as it contains 10% data\n",
        "\n",
        "    # load best model weights\n",
        "    model.load_state_dict(best_model_wts)\n",
        "    torch.save(model.state_dict(), '/content/drive/My Drive/Colab Notebooks/u_net_covid/dense_169.pt') # save model\n",
        "    return model , train_acc_values , val_acc_values"
      ],
      "execution_count": null,
      "outputs": []
    },
    {
      "cell_type": "code",
      "metadata": {
        "id": "nAOdRpN2StL9"
      },
      "source": [
        "# Unet\n",
        "model_ft = smp.Unet('densenet169', classes=2, encoder_weights='imagenet',aux_params=aux_params)\n",
        "# print(model_ft)"
      ],
      "execution_count": null,
      "outputs": []
    },
    {
      "cell_type": "code",
      "metadata": {
        "id": "sV7M7kyjS2IZ"
      },
      "source": [
        "# Unet\n",
        "model_ft = model_ft.to(device)\n",
        "\n",
        "criterion = nn.CrossEntropyLoss()\n",
        "\n",
        "# Observe that all parameters are being optimized\n",
        "optimizer_ft = optim.SGD(model_ft.parameters(), lr=0.001, momentum=0.9)\n",
        "\n",
        "# Decay LR by a factor of 0.1 every 7 epochs\n",
        "exp_lr_scheduler = lr_scheduler.StepLR(optimizer_ft, step_size=7, gamma=0.1)"
      ],
      "execution_count": null,
      "outputs": []
    },
    {
      "cell_type": "code",
      "metadata": {
        "id": "9IMmHV0WTYpp",
        "outputId": "96137e83-241a-4947-a85f-63fe7b550b32",
        "colab": {
          "base_uri": "https://localhost:8080/",
          "height": 1000
        }
      },
      "source": [
        "# Unet\n",
        "model_ft , train_acc_values , val_acc_values = train_model(model_ft, criterion, optimizer_ft, exp_lr_scheduler,\n",
        "                       num_epochs=25)"
      ],
      "execution_count": null,
      "outputs": [
        {
          "output_type": "stream",
          "text": [
            "Epoch 0/24\n",
            "----------\n",
            "train Loss: 0.5523 Acc: 0.7425\n",
            "test Loss: 0.6153 Acc: 0.6586\n",
            "\n",
            "Epoch 1/24\n",
            "----------\n",
            "train Loss: 0.4957 Acc: 0.8111\n",
            "test Loss: 0.6396 Acc: 0.6426\n",
            "\n",
            "Epoch 2/24\n",
            "----------\n",
            "train Loss: 0.4904 Acc: 0.8151\n",
            "test Loss: 0.7009 Acc: 0.5622\n",
            "\n",
            "Epoch 3/24\n",
            "----------\n",
            "train Loss: 0.4861 Acc: 0.8203\n",
            "test Loss: 0.6415 Acc: 0.6466\n",
            "\n",
            "Epoch 4/24\n",
            "----------\n",
            "train Loss: 0.4685 Acc: 0.8381\n",
            "test Loss: 0.6159 Acc: 0.6867\n",
            "\n",
            "Epoch 5/24\n",
            "----------\n",
            "train Loss: 0.4640 Acc: 0.8445\n",
            "test Loss: 0.6235 Acc: 0.6787\n",
            "\n",
            "Epoch 6/24\n",
            "----------\n",
            "train Loss: 0.4721 Acc: 0.8324\n",
            "test Loss: 0.6840 Acc: 0.5984\n",
            "\n",
            "Epoch 7/24\n",
            "----------\n",
            "train Loss: 0.4586 Acc: 0.8502\n",
            "test Loss: 0.6196 Acc: 0.6707\n",
            "\n",
            "Epoch 8/24\n",
            "----------\n",
            "train Loss: 0.4345 Acc: 0.8773\n",
            "test Loss: 0.6113 Acc: 0.6667\n",
            "\n",
            "Epoch 9/24\n",
            "----------\n",
            "train Loss: 0.4374 Acc: 0.8750\n",
            "test Loss: 0.6487 Acc: 0.6466\n",
            "\n",
            "Epoch 10/24\n",
            "----------\n",
            "train Loss: 0.4318 Acc: 0.8773\n",
            "test Loss: 0.5864 Acc: 0.7229\n",
            "\n",
            "Epoch 11/24\n",
            "----------\n",
            "train Loss: 0.4265 Acc: 0.8831\n",
            "test Loss: 0.6053 Acc: 0.6787\n",
            "\n",
            "Epoch 12/24\n",
            "----------\n",
            "train Loss: 0.4296 Acc: 0.8819\n",
            "test Loss: 0.6555 Acc: 0.6466\n",
            "\n",
            "Epoch 13/24\n",
            "----------\n",
            "train Loss: 0.4345 Acc: 0.8831\n",
            "test Loss: 0.6654 Acc: 0.6265\n",
            "\n",
            "Epoch 14/24\n",
            "----------\n",
            "train Loss: 0.4321 Acc: 0.8825\n",
            "test Loss: 0.6111 Acc: 0.6787\n",
            "\n",
            "Epoch 15/24\n",
            "----------\n",
            "train Loss: 0.4276 Acc: 0.8859\n",
            "test Loss: 0.6455 Acc: 0.6546\n",
            "\n",
            "Epoch 16/24\n",
            "----------\n",
            "train Loss: 0.4299 Acc: 0.8859\n",
            "test Loss: 0.5907 Acc: 0.6948\n",
            "\n",
            "Epoch 17/24\n",
            "----------\n",
            "train Loss: 0.4328 Acc: 0.8790\n",
            "test Loss: 0.6207 Acc: 0.6747\n",
            "\n",
            "Epoch 18/24\n",
            "----------\n",
            "train Loss: 0.4317 Acc: 0.8813\n",
            "test Loss: 0.6100 Acc: 0.6787\n",
            "\n",
            "Epoch 19/24\n",
            "----------\n",
            "train Loss: 0.4314 Acc: 0.8790\n",
            "test Loss: 0.5704 Acc: 0.7309\n",
            "\n",
            "Epoch 20/24\n",
            "----------\n",
            "train Loss: 0.4293 Acc: 0.8842\n",
            "test Loss: 0.6130 Acc: 0.6827\n",
            "\n",
            "Epoch 21/24\n",
            "----------\n",
            "train Loss: 0.4272 Acc: 0.8825\n",
            "test Loss: 0.5755 Acc: 0.7149\n",
            "\n",
            "Epoch 22/24\n",
            "----------\n",
            "train Loss: 0.4364 Acc: 0.8802\n",
            "test Loss: 0.6229 Acc: 0.6787\n",
            "\n",
            "Epoch 23/24\n",
            "----------\n",
            "train Loss: 0.4220 Acc: 0.8940\n",
            "test Loss: 0.6086 Acc: 0.6827\n",
            "\n",
            "Epoch 24/24\n",
            "----------\n",
            "train Loss: 0.4205 Acc: 0.8946\n",
            "test Loss: 0.6339 Acc: 0.6627\n",
            "\n",
            "Training complete in 31m 4s\n",
            "Best val Acc: 0.730924\n"
          ],
          "name": "stdout"
        }
      ]
    },
    {
      "cell_type": "code",
      "metadata": {
        "id": "HHTEqQ2m2odB",
        "outputId": "f2b07420-aa72-4240-e0fc-724532c71188",
        "colab": {
          "base_uri": "https://localhost:8080/",
          "height": 295
        }
      },
      "source": [
        "# plotting the curve \n",
        "train_acc = []\n",
        "val_acc = []\n",
        "\n",
        "# train_acc_values , val_acc_values\n",
        "\n",
        "train_acc = [h.cpu().numpy() for h in train_acc_values]\n",
        "val_acc = [h.cpu().numpy() for h in val_acc_values]\n",
        "\n",
        "plt.title(\"Densenet169 with Unet train/val Accuracy vs. Epochs\")\n",
        "plt.xlabel(\"Epochs\")\n",
        "plt.ylabel(\"Accuracy\")\n",
        "plt.plot(range(1,26),train_acc,label=\"train set\")\n",
        "plt.plot(range(1,26),val_acc,label=\"val set\")\n",
        "plt.ylim((0,1.))\n",
        "plt.xticks(np.arange(1, 26, 2.0))\n",
        "plt.legend()\n",
        "plt.show()"
      ],
      "execution_count": null,
      "outputs": [
        {
          "output_type": "display_data",
          "data": {
            "image/png": "[encoded data removed]",
            "text/plain": [
              "<Figure size 432x288 with 1 Axes>"
            ]
          },
          "metadata": {
            "tags": [],
            "needs_background": "light"
          }
        }
      ]
    },
    {
      "cell_type": "code",
      "metadata": {
        "id": "s3fgoQdF2rr2"
      },
      "source": [
        "def test_acc(model):\n",
        "    model.eval()\n",
        "    running_corrects = 0\n",
        "\n",
        "    nb_classes = 2\n",
        "    confusion_matrix = torch.zeros(nb_classes, nb_classes)\n",
        "\n",
        "    predlist=torch.zeros(0,dtype=torch.long, device='cpu')\n",
        "    lbllist=torch.zeros(0,dtype=torch.long, device='cpu')\n",
        "\n",
        "    with torch.no_grad():\n",
        "        for i, (inputs, labels) in enumerate(dataloaders['val']):\n",
        "            inputs = inputs.to(device)\n",
        "            labels = labels.to(device)\n",
        "\n",
        "            mask,outputs = model(inputs) # unet\n",
        "            _, preds = torch.max(outputs, 1)\n",
        "\n",
        "            running_corrects += torch.sum(preds == labels.data)\n",
        "            \n",
        "            for t, p in zip(labels.view(-1), preds.view(-1)):\n",
        "                confusion_matrix[t.long(), p.long()] += 1\n",
        "\n",
        "            predlist=torch.cat([predlist,preds.view(-1).cpu()])\n",
        "            lbllist=torch.cat([lbllist,labels.view(-1).cpu()])\n",
        "\n",
        "    sk_cm = sk_confusion_matrix(lbllist.numpy(), predlist.numpy())\n",
        "\n",
        "    # testing_acc = running_corrects.double() / dataset_sizes['test']\n",
        "    testing_acc = running_corrects.double() / dataset_sizes['val']\n",
        "    return confusion_matrix , testing_acc ,sk_cm"
      ],
      "execution_count": null,
      "outputs": []
    },
    {
      "cell_type": "code",
      "metadata": {
        "id": "8x8CsH1a6PIN",
        "outputId": "3c79c22e-fea3-4e21-c6c9-2719a3714520",
        "colab": {
          "base_uri": "https://localhost:8080/",
          "height": 102
        }
      },
      "source": [
        "confusion_matrix , testing_acc ,sk_cm = test_acc(model_ft)\n",
        "print(confusion_matrix, '\\n', testing_acc, '\\n',  sk_cm)"
      ],
      "execution_count": null,
      "outputs": [
        {
          "output_type": "stream",
          "text": [
            "tensor([[198.,  52.],\n",
            "        [  3., 243.]]) \n",
            " tensor(0.8891, device='cuda:0', dtype=torch.float64) \n",
            " [[198  52]\n",
            " [  3 243]]\n"
          ],
          "name": "stdout"
        }
      ]
    },
    {
      "cell_type": "code",
      "metadata": {
        "id": "g6gW6mmw2x72",
        "outputId": "be771be6-8bdb-4b02-f541-3930ad91711f",
        "colab": {
          "base_uri": "https://localhost:8080/",
          "height": 362
        }
      },
      "source": [
        "plot_confusion_matrix(sk_cm, class_names)"
      ],
      "execution_count": null,
      "outputs": [
        {
          "output_type": "stream",
          "text": [
            "Confusion matrix, without normalization\n",
            "[[198  52]\n",
            " [  3 243]]\n"
          ],
          "name": "stdout"
        },
        {
          "output_type": "display_data",
          "data": {
            "image/png": "[encoded data removed]",
            "text/plain": [
              "<Figure size 432x288 with 2 Axes>"
            ]
          },
          "metadata": {
            "tags": [],
            "needs_background": "light"
          }
        }
      ]
    },
    {
      "cell_type": "code",
      "metadata": {
        "id": "VECLl6G7Bt93"
      },
      "source": [
        "# import numpy as np\n",
        "# sk_cm = np.array([[227 ,23],\n",
        "#  [ 73 ,173]])"
      ],
      "execution_count": null,
      "outputs": []
    },
    {
      "cell_type": "code",
      "metadata": {
        "id": "StdyOTiU6YJ9",
        "outputId": "cfd403db-bdd6-4f88-c32c-74f35042e665",
        "colab": {
          "base_uri": "https://localhost:8080/",
          "height": 102
        }
      },
      "source": [
        "# 2\n",
        "# demo\n",
        "\n",
        "tp = sk_cm[0][0]\n",
        "tn = sk_cm[1][1]\n",
        "\n",
        "# fp = sk_cm[0][1]\n",
        "fn = sk_cm[0][1]\n",
        "\n",
        "fp = sk_cm[1][0]\n",
        "# fn = sk_cm[1][0]\n",
        "\n",
        "\n",
        "precision = tp / (tp + fp)\n",
        "sensitivity = tp / (tp + fn)\n",
        "specificity = tn / (tn + fp)\n",
        "f1_score = (2*tp) / (2*tp + fp + fn)\n",
        "# f1_score = (2*precision*sensitivity) / (precision+sensitivity)\n",
        "accuracy = (tp+tn) / dataset_sizes['val']\n",
        "\n",
        "print('Precision: {:.2f} %\\n Sensitivity: {:.2f} %\\n Specificity: {:.2f} %\\n F1_scorer: {:.2f} %\\n Accuracy: {:.2f} %'.format(precision*100, sensitivity*100, specificity*100, f1_score*100, accuracy*100))"
      ],
      "execution_count": null,
      "outputs": [
        {
          "output_type": "stream",
          "text": [
            "Precision: 98.51 %\n",
            " Sensitivity: 79.20 %\n",
            " Specificity: 98.78 %\n",
            " F1_scorer: 87.80 %\n",
            " Accuracy: 88.91 %\n"
          ],
          "name": "stdout"
        }
      ]
    }
  ]
}